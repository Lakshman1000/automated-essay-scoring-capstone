{
  "cells": [
    {
      "cell_type": "code",
      "execution_count": null,
      "id": "337ca3ef",
      "metadata": {
        "id": "337ca3ef"
      },
      "outputs": [],
      "source": [
        "import pandas as pd\n",
        "import gensim\n",
        "from gensim.models import Doc2Vec\n",
        "from gensim.models.doc2vec import TaggedDocument\n",
        "from sklearn.model_selection import train_test_split\n",
        "from sklearn.metrics import accuracy_score, confusion_matrix, precision_score, recall_score, cohen_kappa_score, ConfusionMatrixDisplay\n",
        "import nltk\n",
        "from nltk.corpus import stopwords\n",
        "import xgboost as xgb\n",
        "import numpy as np\n",
        "import matplotlib.pyplot as plt\n",
        "from gensim.models import Word2Vec\n",
        "from gensim import corpora\n",
        "from gensim.models.ldamodel import LdaModel\n",
        "from sklearn.feature_extraction.text import TfidfVectorizer\n",
        "from textstat.textstat import textstatistics\n",
        "from nltk.tokenize import word_tokenize\n",
        "import torch\n",
        "from transformers import BertTokenizer, BertModel\n",
        "import re\n",
        "import pickle\n",
        "import optuna\n",
        "from sklearn.metrics import cohen_kappa_score"
      ]
    },
    {
      "cell_type": "code",
      "source": [],
      "metadata": {
        "id": "AMq6GL6eYHdm"
      },
      "id": "AMq6GL6eYHdm",
      "execution_count": null,
      "outputs": []
    },
    {
      "cell_type": "code",
      "execution_count": null,
      "id": "dc50afb8",
      "metadata": {
        "colab": {
          "base_uri": "https://localhost:8080/"
        },
        "id": "dc50afb8",
        "outputId": "eeaeb3a1-2020-4da8-b871-8319cde03080"
      },
      "outputs": [
        {
          "output_type": "stream",
          "name": "stderr",
          "text": [
            "[nltk_data] Downloading package stopwords to /root/nltk_data...\n",
            "[nltk_data]   Package stopwords is already up-to-date!\n"
          ]
        }
      ],
      "source": [
        "# Download stopwords\n",
        "nltk.download('stopwords')\n",
        "\n",
        "columns_to_read = ['full_text', 'score']\n",
        "\n",
        "# Load data\n",
        "dataset = pd.read_csv('train.csv', usecols=columns_to_read)"
      ]
    },
    {
      "cell_type": "markdown",
      "id": "be8e8c20",
      "metadata": {
        "id": "be8e8c20"
      },
      "source": [
        "# Training XGBoost Algorithm:"
      ]
    },
    {
      "cell_type": "code",
      "execution_count": null,
      "id": "0d048973",
      "metadata": {
        "id": "0d048973"
      },
      "outputs": [],
      "source": [
        "def train_xgb(X, y):\n",
        "\n",
        "    #Data Split\n",
        "    X_train, X_test, y_train, y_test = train_test_split(X, y, test_size=0.2, random_state=42)\n",
        "    # Convert to DMatrix, the data structure used by XGBoost\n",
        "    dtrain = xgb.DMatrix(X_train, label=y_train)\n",
        "    dtest = xgb.DMatrix(X_test, label=y_test)\n",
        "\n",
        "    # Set XGBoost parameters for classification\n",
        "    params = {\n",
        "        'max_depth': 6,\n",
        "        'eta': 0.3,\n",
        "        'objective': 'multi:softmax',  # For classification\n",
        "        'num_class': len(y.unique())  # Number of classes\n",
        "    }\n",
        "    num_rounds = 100\n",
        "\n",
        "    # Train the model\n",
        "    bst = xgb.train(params, dtrain, num_rounds)\n",
        "\n",
        "    # Predict\n",
        "    y_pred = bst.predict(dtest)\n",
        "\n",
        "    # Evaluate\n",
        "    accuracy = accuracy_score(y_test, y_pred)\n",
        "    precision = precision_score(y_test, y_pred, average='weighted')\n",
        "    recall = recall_score(y_test, y_pred, average='weighted')\n",
        "    qwk = cohen_kappa_score(y_test, y_pred, weights='quadratic')\n",
        "    print(f'Accuracy: {accuracy}')\n",
        "\n",
        "    # Create confusion matrix\n",
        "    cm = confusion_matrix(y_test, y_pred)\n",
        "    disp = ConfusionMatrixDisplay(confusion_matrix=cm, display_labels=np.arange(len(dataset['score'].unique())))\n",
        "\n",
        "    # Plot confusion matrix\n",
        "    disp.plot(cmap=plt.cm.Blues)\n",
        "    plt.title('Confusion Matrix')\n",
        "    plt.show()\n",
        "    print(f\"Precision: {precision:.2f}\")\n",
        "    print(f\"Recall: {recall:.2f}\")\n",
        "    print(f\"Quadratic Weighted Kappa (QWK): {qwk:.2f}\")"
      ]
    },
    {
      "cell_type": "markdown",
      "id": "90c11724",
      "metadata": {
        "id": "90c11724"
      },
      "source": [
        "# Preprocessing text:"
      ]
    },
    {
      "cell_type": "code",
      "execution_count": null,
      "id": "d6304c3c",
      "metadata": {
        "id": "d6304c3c"
      },
      "outputs": [],
      "source": [
        "def preprocess_text(text):\n",
        "    tokens = gensim.utils.simple_preprocess(text)\n",
        "    return tokens"
      ]
    },
    {
      "cell_type": "code",
      "source": [
        "def clean_text(text):\n",
        "    # Remove non-alphabetical characters\n",
        "    text = re.sub(r'[^a-zA-Z\\s]', '', text)\n",
        "    # Convert to lowercase\n",
        "    text = text.lower()\n",
        "    return text"
      ],
      "metadata": {
        "id": "L4J5umiFA7Aw"
      },
      "id": "L4J5umiFA7Aw",
      "execution_count": null,
      "outputs": []
    },
    {
      "cell_type": "code",
      "execution_count": null,
      "id": "d1a948db",
      "metadata": {
        "id": "d1a948db"
      },
      "outputs": [],
      "source": [
        "# Apply preprocessing\n",
        "dataset['tokens'] = dataset['full_text'].apply(preprocess_text)\n",
        "\n",
        "# Clean the text\n",
        "dataset['clean_text'] = dataset['full_text'].apply(clean_text)\n",
        "\n",
        "# Convert scores to zero-indexed categorical labels (assuming scores are integers starting from 1)\n",
        "dataset['score'] = dataset['score'] - 1"
      ]
    },
    {
      "cell_type": "markdown",
      "id": "31e714ea",
      "metadata": {
        "id": "31e714ea"
      },
      "source": [
        "# Doc2Vec Model:"
      ]
    },
    {
      "cell_type": "code",
      "execution_count": null,
      "id": "6835b797",
      "metadata": {
        "id": "6835b797"
      },
      "outputs": [],
      "source": [
        "# Prepare data for doc2vec\n",
        "documents = [TaggedDocument(doc, [i]) for i, doc in enumerate(dataset['tokens'])]\n",
        "\n",
        "# Train doc2vec model\n",
        "doc2vec_model = Doc2Vec(documents, vector_size=200, window=5, min_count=2, workers=4, epochs=40)\n",
        "\n",
        "# Get vectors for each essay\n",
        "dataset['doc2vec_vectors'] = dataset['tokens'].apply(lambda x: doc2vec_model.infer_vector(x))\n"
      ]
    },
    {
      "cell_type": "code",
      "source": [
        "dataset['doc2vec_vectors'][0]"
      ],
      "metadata": {
        "colab": {
          "base_uri": "https://localhost:8080/"
        },
        "id": "BUlgb8qh2Rc6",
        "outputId": "c15cc79b-8325-4041-8a42-c1f1bcd4f2fc"
      },
      "id": "BUlgb8qh2Rc6",
      "execution_count": null,
      "outputs": [
        {
          "output_type": "execute_result",
          "data": {
            "text/plain": [
              "array([-0.11714725,  1.79456   , -0.04467436, -0.6375069 ,  0.29677132,\n",
              "        1.2874424 , -1.6350288 ,  0.9038059 ,  2.3899486 ,  0.5959704 ,\n",
              "        0.4053697 ,  2.3114667 ,  1.8504015 , -0.7764172 , -0.17586395,\n",
              "       -1.2027317 , -1.0645007 ,  0.11517528, -0.27564704,  1.5063958 ,\n",
              "        0.3757148 , -0.16795765, -0.5705796 , -0.58788776, -0.9526201 ,\n",
              "       -0.85175365, -1.363986  ,  0.39096302, -1.8424537 ,  0.34812993,\n",
              "       -0.04021628,  0.7493284 ,  0.85571784, -0.01588812,  1.1932147 ,\n",
              "       -1.0276637 ,  0.40243405, -1.567982  , -2.353027  ,  0.78099597,\n",
              "        0.91794276,  1.4352541 ,  0.81104773, -1.7079159 ,  1.1277283 ,\n",
              "        0.42883086, -0.91976976, -2.767011  ,  0.5581851 ,  0.38624108,\n",
              "        0.26491874,  0.65031594, -0.9009439 ,  0.63890743,  1.247106  ,\n",
              "       -1.4295553 ,  0.24119668, -0.47965205, -1.9409872 , -2.9360976 ,\n",
              "        0.37583992, -0.19810998, -1.0895202 , -0.04726233,  0.9145441 ,\n",
              "        0.05144741, -1.3943187 , -0.8139822 ,  0.9184727 ,  1.4071258 ,\n",
              "        0.3062561 ,  0.01422035, -0.5864584 , -0.32140985, -1.4679704 ,\n",
              "        0.5131438 , -0.78913504,  0.69839275, -0.7563188 ,  0.55895835,\n",
              "        0.1985885 ,  1.1395692 , -0.24130961, -2.079492  , -1.6548713 ,\n",
              "       -0.93949217, -0.78619415,  0.2088189 , -1.3796829 , -1.087014  ,\n",
              "       -0.950279  ,  0.83139056, -0.4458694 , -1.2598649 , -2.0801215 ,\n",
              "       -0.28595316, -0.39120314,  0.19359803,  0.8504198 , -1.3982488 ,\n",
              "       -0.30509916, -0.04126815, -0.67784524, -0.7864041 ,  0.0638948 ,\n",
              "       -0.9875551 , -0.45827731,  0.5741815 , -1.1923217 , -0.58365166,\n",
              "       -1.1919087 , -2.0636513 , -1.5447084 ,  0.25169262,  2.498478  ,\n",
              "        1.0115057 ,  0.8663282 , -0.07690506,  0.06974731,  0.50734645,\n",
              "       -0.3879724 ,  0.46233267,  1.1340327 ,  0.6158414 ,  0.8815692 ,\n",
              "       -1.1035757 ,  0.8695993 , -0.01629322, -1.1998976 ,  0.06777479,\n",
              "        0.7602189 ,  0.67231774,  0.6502517 , -0.3068408 , -1.6066518 ,\n",
              "       -1.4410529 , -1.0721908 ,  0.20807788,  1.7910497 , -0.65037113,\n",
              "        0.06109957,  1.369312  , -2.4593832 ,  1.1403614 , -1.404263  ,\n",
              "        0.10034562, -0.36596337,  0.23239934, -0.23603466,  0.12555641,\n",
              "       -1.1491107 , -0.83302623,  0.7146764 ,  0.06582686, -0.22748567,\n",
              "       -1.4722148 ,  1.2695915 , -0.02181233,  0.04334503,  0.04152094,\n",
              "        2.0462713 , -0.80477667,  0.3921992 ,  0.74906546,  0.6670248 ,\n",
              "        0.187574  , -1.0234668 , -1.6090902 ,  0.17203075, -0.03512838,\n",
              "        0.65615904, -0.07934067,  0.88486576, -0.22289248,  0.20415434,\n",
              "       -0.529449  ,  0.2577652 , -0.21291831, -1.0398084 ,  0.24955055,\n",
              "        0.56066835,  0.64107454,  0.74318826, -0.6645517 , -1.3364102 ,\n",
              "        0.53885037, -0.28703678,  1.5635394 ,  0.6155653 ,  0.42855728,\n",
              "        1.0973614 , -0.6198401 , -1.0793178 ,  1.0652026 ,  0.7718139 ,\n",
              "        1.5341535 , -1.1320577 , -3.380972  , -0.6404026 , -0.07022236],\n",
              "      dtype=float32)"
            ]
          },
          "metadata": {},
          "execution_count": 74
        }
      ]
    },
    {
      "cell_type": "code",
      "source": [
        "len(dataset['doc2vec_vectors'][0])"
      ],
      "metadata": {
        "colab": {
          "base_uri": "https://localhost:8080/"
        },
        "id": "e6u0oZne2Zfn",
        "outputId": "3cac7864-3b4c-48d6-f0e6-21753849370a"
      },
      "id": "e6u0oZne2Zfn",
      "execution_count": null,
      "outputs": [
        {
          "output_type": "execute_result",
          "data": {
            "text/plain": [
              "200"
            ]
          },
          "metadata": {},
          "execution_count": 75
        }
      ]
    },
    {
      "cell_type": "code",
      "execution_count": null,
      "id": "7fce6ed4",
      "metadata": {
        "colab": {
          "base_uri": "https://localhost:8080/",
          "height": 599
        },
        "id": "7fce6ed4",
        "outputId": "f45d967d-a609-4e7d-a9ef-c5d00b936e6a"
      },
      "outputs": [
        {
          "output_type": "stream",
          "name": "stderr",
          "text": [
            "/usr/local/lib/python3.10/dist-packages/sklearn/metrics/_classification.py:1344: UndefinedMetricWarning: Precision is ill-defined and being set to 0.0 in labels with no predicted samples. Use `zero_division` parameter to control this behavior.\n",
            "  _warn_prf(average, modifier, msg_start, len(result))\n"
          ]
        },
        {
          "output_type": "stream",
          "name": "stdout",
          "text": [
            "Accuracy: 0.4708261120739457\n"
          ]
        },
        {
          "output_type": "display_data",
          "data": {
            "text/plain": [
              "<Figure size 640x480 with 2 Axes>"
            ],
            "image/png": "[encoded data removed]"
          },
          "metadata": {}
        },
        {
          "output_type": "stream",
          "name": "stdout",
          "text": [
            "Precision: 0.46\n",
            "Recall: 0.47\n",
            "Quadratic Weighted Kappa (QWK): 0.56\n"
          ]
        }
      ],
      "source": [
        "# Split data\n",
        "X = list(dataset['doc2vec_vectors'])\n",
        "y = dataset['score']\n",
        "train_xgb(X, y)"
      ]
    },
    {
      "cell_type": "markdown",
      "id": "a618c472",
      "metadata": {
        "id": "a618c472"
      },
      "source": [
        "# Word2Vec Model:"
      ]
    },
    {
      "cell_type": "code",
      "execution_count": null,
      "id": "166aae35",
      "metadata": {
        "id": "166aae35"
      },
      "outputs": [],
      "source": [
        "word_2_vec = Word2Vec(dataset['tokens'], sg=1)\n",
        "\n",
        "# Create Document Embeddings\n",
        "def document_embedding(tokens, model):\n",
        "    # Filter tokens that are in the vocabulary\n",
        "    valid_tokens = [token for token in tokens if token in model.wv]\n",
        "    if not valid_tokens:\n",
        "        return np.zeros(model.vector_size)\n",
        "    return np.mean(model.wv[valid_tokens], axis=0)\n",
        "\n",
        "dataset['word2vec_embedding'] = dataset['tokens'].apply(lambda x: document_embedding(x, word_2_vec))\n"
      ]
    },
    {
      "cell_type": "code",
      "execution_count": null,
      "id": "98fa1a04",
      "metadata": {
        "colab": {
          "base_uri": "https://localhost:8080/"
        },
        "id": "98fa1a04",
        "outputId": "f081f1e9-c6af-4700-bd29-1b933a53b1e7"
      },
      "outputs": [
        {
          "output_type": "execute_result",
          "data": {
            "text/plain": [
              "array([ 0.25274134,  0.18769345,  0.08349447,  0.06744717,  0.28375033,\n",
              "       -0.3408363 ,  0.16064724,  0.24266607,  0.14565237,  0.34247023,\n",
              "        0.01602339, -0.17632957,  0.00093384,  0.03165566, -0.05616685,\n",
              "        0.06899133,  0.28158987, -0.25969025, -0.32758668, -0.1941615 ,\n",
              "        0.05905569, -0.03055902, -0.06799177, -0.54200494, -0.00383681,\n",
              "        0.03621334, -0.07067064, -0.01389722,  0.18646692,  0.08788975,\n",
              "        0.31150576, -0.23996587, -0.15664358, -0.1628659 , -0.23480265,\n",
              "        0.02224499, -0.05175745, -0.3872897 , -0.02353954, -0.5229504 ,\n",
              "       -0.0850169 , -0.34760383, -0.19575667,  0.1816296 ,  0.25739267,\n",
              "       -0.01907638,  0.01848448,  0.20356524,  0.5294125 ,  0.11283548,\n",
              "       -0.43017295,  0.16568692,  0.12170821,  0.19095145,  0.19390008,\n",
              "        0.05737608, -0.3859826 ,  0.25659093,  0.04760768, -0.12257092,\n",
              "        0.23867889,  0.29723704, -0.10325865,  0.09762042,  0.00445161,\n",
              "        0.65431684,  0.15837407,  0.07139716, -0.7699537 ,  0.08087601,\n",
              "       -0.45654383,  0.37621534, -0.18549418,  0.1390791 ,  0.14519542,\n",
              "       -0.00700862, -0.56778365,  0.01566387, -0.29193738,  0.34904262,\n",
              "       -0.2375528 ,  0.54189205, -0.5420263 ,  0.6337535 , -0.19032988,\n",
              "        0.01034071,  0.32923365,  0.08350586,  0.12831318,  0.46971983,\n",
              "       -0.04898186,  0.4149188 ,  0.18737556,  0.04279615,  0.2987187 ,\n",
              "        0.2649199 ,  0.19317035, -0.02871329, -0.17960241, -0.12245135],\n",
              "      dtype=float32)"
            ]
          },
          "metadata": {},
          "execution_count": 53
        }
      ],
      "source": [
        "word_2_vec.wv['time']"
      ]
    },
    {
      "cell_type": "code",
      "execution_count": null,
      "id": "f6c4186b",
      "metadata": {
        "colab": {
          "base_uri": "https://localhost:8080/"
        },
        "id": "f6c4186b",
        "outputId": "ab25b108-23c0-4323-eaab-b0a95791fdec"
      },
      "outputs": [
        {
          "output_type": "execute_result",
          "data": {
            "text/plain": [
              "[('roadtrips', 0.6098679304122925),\n",
              " ('extended', 0.6070204377174377),\n",
              " ('hvae', 0.5782170295715332),\n",
              " ('spen', 0.5746702551841736),\n",
              " ('availble', 0.5709627270698547),\n",
              " ('pen', 0.5702911019325256),\n",
              " ('periods', 0.5699548125267029),\n",
              " ('tireing', 0.5648030042648315),\n",
              " ('ecspecially', 0.5616020560264587),\n",
              " ('privilage', 0.5599392652511597)]"
            ]
          },
          "metadata": {},
          "execution_count": 54
        }
      ],
      "source": [
        "word_2_vec.wv.most_similar('time')"
      ]
    },
    {
      "cell_type": "code",
      "execution_count": null,
      "id": "fa0dba60",
      "metadata": {
        "colab": {
          "base_uri": "https://localhost:8080/"
        },
        "id": "fa0dba60",
        "outputId": "dc386370-195c-44ee-b7e4-d11b863997ae"
      },
      "outputs": [
        {
          "output_type": "execute_result",
          "data": {
            "text/plain": [
              "[('techonology', 0.8965651392936707),\n",
              " ('technolgy', 0.8861696124076843),\n",
              " ('techology', 0.8541069626808167),\n",
              " ('techonolgy', 0.8411253690719604),\n",
              " ('tecnology', 0.8377337455749512),\n",
              " ('techonlogy', 0.8260040283203125),\n",
              " ('tehnology', 0.8129680156707764),\n",
              " ('technoloy', 0.7883874773979187),\n",
              " ('tehcnology', 0.7825776934623718),\n",
              " ('technologly', 0.7692978382110596)]"
            ]
          },
          "metadata": {},
          "execution_count": 55
        }
      ],
      "source": [
        "word_2_vec.wv.most_similar('technology')"
      ]
    },
    {
      "cell_type": "code",
      "execution_count": null,
      "id": "a5888a1a",
      "metadata": {
        "colab": {
          "base_uri": "https://localhost:8080/",
          "height": 543
        },
        "id": "a5888a1a",
        "outputId": "46399e63-e76a-4a85-e831-53330c83cc48"
      },
      "outputs": [
        {
          "output_type": "stream",
          "name": "stdout",
          "text": [
            "Accuracy: 0.44280762564991333\n"
          ]
        },
        {
          "output_type": "display_data",
          "data": {
            "text/plain": [
              "<Figure size 640x480 with 2 Axes>"
            ],
            "image/png": "[encoded data removed]"
          },
          "metadata": {}
        },
        {
          "output_type": "stream",
          "name": "stdout",
          "text": [
            "Precision: 0.45\n",
            "Recall: 0.44\n",
            "Quadratic Weighted Kappa (QWK): 0.55\n"
          ]
        }
      ],
      "source": [
        "X = list(dataset['word2vec_embedding'])\n",
        "y = dataset['score']\n",
        "train_xgb(X, y)"
      ]
    },
    {
      "cell_type": "code",
      "execution_count": null,
      "id": "e8266c27",
      "metadata": {
        "colab": {
          "base_uri": "https://localhost:8080/",
          "height": 754
        },
        "id": "e8266c27",
        "outputId": "b38026e3-9533-4da6-a267-4bb147a3e788"
      },
      "outputs": [
        {
          "output_type": "execute_result",
          "data": {
            "text/plain": [
              "                                               full_text  score  \\\n",
              "0      Many people have car where they live. The thin...      2   \n",
              "1      I am a scientist at NASA that is discussing th...      2   \n",
              "2      People always wish they had the same technolog...      3   \n",
              "3      We all heard about Venus, the planet without a...      3   \n",
              "4      Dear, State Senator\\n\\nThis is a letter to arg...      2   \n",
              "...                                                  ...    ...   \n",
              "17302  the story \" The Challenge of Exploing Venus \" ...      1   \n",
              "17303  Technology has changed a lot of ways that we l...      3   \n",
              "17304  If you don't like sitting around all day than ...      1   \n",
              "17305  In \"The Challenge of Exporing Venus,\" the auth...      0   \n",
              "17306  Venus is worthy place to study but dangerous. ...      1   \n",
              "\n",
              "                                                  tokens  \\\n",
              "0      [many, people, car, live, thing, know, use, ca...   \n",
              "1      [scientist, nasa, discussing, face, mars, expl...   \n",
              "2      [people, always, wish, technology, seen, movie...   \n",
              "3      [heard, venus, planet, without, almost, oxygen...   \n",
              "4      [dear, state, senator, letter, argue, favor, k...   \n",
              "...                                                  ...   \n",
              "17302  [story, challenge, exploing, venus, informativ...   \n",
              "17303  [technology, changed, lot, ways, live, today, ...   \n",
              "17304  [like, sitting, around, day, great, opportunit...   \n",
              "17305  [challenge, exporing, venus, author, suggests,...   \n",
              "17306  [venus, worthy, place, study, dangerous, reaos...   \n",
              "\n",
              "                                            bert_vectors  \\\n",
              "0      [[-0.4510786, -0.61312973, -0.9915619, 0.58666...   \n",
              "1      [[-0.44012108, -0.6400353, -0.9984654, 0.58960...   \n",
              "2      [[-0.6941047, -0.70088804, -0.9976579, 0.69354...   \n",
              "3      [[-0.47142595, -0.58093745, -0.96070683, 0.292...   \n",
              "4      [[-0.9814893, -0.92573893, -0.99992716, 0.9851...   \n",
              "...                                                  ...   \n",
              "17302  [[-0.10388627, -0.24056004, -0.97392523, 0.198...   \n",
              "17303  [[-0.4643471, -0.47675395, -0.9489571, 0.28652...   \n",
              "17304  [[-0.6860596, -0.6364956, -0.997904, 0.7050073...   \n",
              "17305  [[-0.55692744, -0.58910525, -0.9882614, 0.3367...   \n",
              "17306  [[-0.22936614, -0.24968699, -0.97274, 0.450244...   \n",
              "\n",
              "                                         doc2vec_vectors  \\\n",
              "0      [-0.6013362, 1.5564349, -0.21694282, 2.4798417...   \n",
              "1      [-0.69213426, 0.16976108, -2.006672, -0.322937...   \n",
              "2      [-1.546322, -0.44449148, -1.0853112, -1.565009...   \n",
              "3      [-0.11000004, 2.1037993, -1.0489368, 1.3590332...   \n",
              "4      [-0.17245847, 0.9834995, 0.35512155, -0.506286...   \n",
              "...                                                  ...   \n",
              "17302  [-0.87323844, 0.096253194, -0.33556357, 0.9219...   \n",
              "17303  [1.1509988, -0.1555144, 2.0368912, 2.6971693, ...   \n",
              "17304  [0.25191867, 0.6329397, -1.6539253, -0.0470355...   \n",
              "17305  [0.02642863, 0.24310982, -0.50016785, -0.13005...   \n",
              "17306  [-0.5979096, -0.022264672, -0.4483673, -0.7551...   \n",
              "\n",
              "                                      word2vec_embedding  \n",
              "0      [0.09868326, 0.14937146, 0.110611595, -0.18116...  \n",
              "1      [0.030908925, -0.09713067, -0.079285726, 0.044...  \n",
              "2      [-0.019957826, 0.07348071, 0.112887084, -0.063...  \n",
              "3      [-0.056483038, -0.07229383, 0.19571419, -0.022...  \n",
              "4      [0.061799444, 0.43143573, 0.1636162, -0.347826...  \n",
              "...                                                  ...  \n",
              "17302  [-0.03451544, -0.01714574, 0.102099076, -0.016...  \n",
              "17303  [0.03379165, -0.107506886, 0.18613574, -0.0333...  \n",
              "17304  [0.0991198, -0.004911612, 0.08610494, -0.04291...  \n",
              "17305  [-0.046185847, -0.13309696, 0.2500523, -0.0397...  \n",
              "17306  [0.01430487, -0.09393338, 0.05576352, -0.06442...  \n",
              "\n",
              "[17307 rows x 6 columns]"
            ],
            "text/html": [
              "\n",
              "  <div id=\"df-fd288039-ecb9-4f4e-94a8-aad1b2b38ea2\" class=\"colab-df-container\">\n",
              "    <div>\n",
              "<style scoped>\n",
              "    .dataframe tbody tr th:only-of-type {\n",
              "        vertical-align: middle;\n",
              "    }\n",
              "\n",
              "    .dataframe tbody tr th {\n",
              "        vertical-align: top;\n",
              "    }\n",
              "\n",
              "    .dataframe thead th {\n",
              "        text-align: right;\n",
              "    }\n",
              "</style>\n",
              "<table border=\"1\" class=\"dataframe\">\n",
              "  <thead>\n",
              "    <tr style=\"text-align: right;\">\n",
              "      <th></th>\n",
              "      <th>full_text</th>\n",
              "      <th>score</th>\n",
              "      <th>tokens</th>\n",
              "      <th>bert_vectors</th>\n",
              "      <th>doc2vec_vectors</th>\n",
              "      <th>word2vec_embedding</th>\n",
              "    </tr>\n",
              "  </thead>\n",
              "  <tbody>\n",
              "    <tr>\n",
              "      <th>0</th>\n",
              "      <td>Many people have car where they live. The thin...</td>\n",
              "      <td>2</td>\n",
              "      <td>[many, people, car, live, thing, know, use, ca...</td>\n",
              "      <td>[[-0.4510786, -0.61312973, -0.9915619, 0.58666...</td>\n",
              "      <td>[-0.6013362, 1.5564349, -0.21694282, 2.4798417...</td>\n",
              "      <td>[0.09868326, 0.14937146, 0.110611595, -0.18116...</td>\n",
              "    </tr>\n",
              "    <tr>\n",
              "      <th>1</th>\n",
              "      <td>I am a scientist at NASA that is discussing th...</td>\n",
              "      <td>2</td>\n",
              "      <td>[scientist, nasa, discussing, face, mars, expl...</td>\n",
              "      <td>[[-0.44012108, -0.6400353, -0.9984654, 0.58960...</td>\n",
              "      <td>[-0.69213426, 0.16976108, -2.006672, -0.322937...</td>\n",
              "      <td>[0.030908925, -0.09713067, -0.079285726, 0.044...</td>\n",
              "    </tr>\n",
              "    <tr>\n",
              "      <th>2</th>\n",
              "      <td>People always wish they had the same technolog...</td>\n",
              "      <td>3</td>\n",
              "      <td>[people, always, wish, technology, seen, movie...</td>\n",
              "      <td>[[-0.6941047, -0.70088804, -0.9976579, 0.69354...</td>\n",
              "      <td>[-1.546322, -0.44449148, -1.0853112, -1.565009...</td>\n",
              "      <td>[-0.019957826, 0.07348071, 0.112887084, -0.063...</td>\n",
              "    </tr>\n",
              "    <tr>\n",
              "      <th>3</th>\n",
              "      <td>We all heard about Venus, the planet without a...</td>\n",
              "      <td>3</td>\n",
              "      <td>[heard, venus, planet, without, almost, oxygen...</td>\n",
              "      <td>[[-0.47142595, -0.58093745, -0.96070683, 0.292...</td>\n",
              "      <td>[-0.11000004, 2.1037993, -1.0489368, 1.3590332...</td>\n",
              "      <td>[-0.056483038, -0.07229383, 0.19571419, -0.022...</td>\n",
              "    </tr>\n",
              "    <tr>\n",
              "      <th>4</th>\n",
              "      <td>Dear, State Senator\\n\\nThis is a letter to arg...</td>\n",
              "      <td>2</td>\n",
              "      <td>[dear, state, senator, letter, argue, favor, k...</td>\n",
              "      <td>[[-0.9814893, -0.92573893, -0.99992716, 0.9851...</td>\n",
              "      <td>[-0.17245847, 0.9834995, 0.35512155, -0.506286...</td>\n",
              "      <td>[0.061799444, 0.43143573, 0.1636162, -0.347826...</td>\n",
              "    </tr>\n",
              "    <tr>\n",
              "      <th>...</th>\n",
              "      <td>...</td>\n",
              "      <td>...</td>\n",
              "      <td>...</td>\n",
              "      <td>...</td>\n",
              "      <td>...</td>\n",
              "      <td>...</td>\n",
              "    </tr>\n",
              "    <tr>\n",
              "      <th>17302</th>\n",
              "      <td>the story \" The Challenge of Exploing Venus \" ...</td>\n",
              "      <td>1</td>\n",
              "      <td>[story, challenge, exploing, venus, informativ...</td>\n",
              "      <td>[[-0.10388627, -0.24056004, -0.97392523, 0.198...</td>\n",
              "      <td>[-0.87323844, 0.096253194, -0.33556357, 0.9219...</td>\n",
              "      <td>[-0.03451544, -0.01714574, 0.102099076, -0.016...</td>\n",
              "    </tr>\n",
              "    <tr>\n",
              "      <th>17303</th>\n",
              "      <td>Technology has changed a lot of ways that we l...</td>\n",
              "      <td>3</td>\n",
              "      <td>[technology, changed, lot, ways, live, today, ...</td>\n",
              "      <td>[[-0.4643471, -0.47675395, -0.9489571, 0.28652...</td>\n",
              "      <td>[1.1509988, -0.1555144, 2.0368912, 2.6971693, ...</td>\n",
              "      <td>[0.03379165, -0.107506886, 0.18613574, -0.0333...</td>\n",
              "    </tr>\n",
              "    <tr>\n",
              "      <th>17304</th>\n",
              "      <td>If you don't like sitting around all day than ...</td>\n",
              "      <td>1</td>\n",
              "      <td>[like, sitting, around, day, great, opportunit...</td>\n",
              "      <td>[[-0.6860596, -0.6364956, -0.997904, 0.7050073...</td>\n",
              "      <td>[0.25191867, 0.6329397, -1.6539253, -0.0470355...</td>\n",
              "      <td>[0.0991198, -0.004911612, 0.08610494, -0.04291...</td>\n",
              "    </tr>\n",
              "    <tr>\n",
              "      <th>17305</th>\n",
              "      <td>In \"The Challenge of Exporing Venus,\" the auth...</td>\n",
              "      <td>0</td>\n",
              "      <td>[challenge, exporing, venus, author, suggests,...</td>\n",
              "      <td>[[-0.55692744, -0.58910525, -0.9882614, 0.3367...</td>\n",
              "      <td>[0.02642863, 0.24310982, -0.50016785, -0.13005...</td>\n",
              "      <td>[-0.046185847, -0.13309696, 0.2500523, -0.0397...</td>\n",
              "    </tr>\n",
              "    <tr>\n",
              "      <th>17306</th>\n",
              "      <td>Venus is worthy place to study but dangerous. ...</td>\n",
              "      <td>1</td>\n",
              "      <td>[venus, worthy, place, study, dangerous, reaos...</td>\n",
              "      <td>[[-0.22936614, -0.24968699, -0.97274, 0.450244...</td>\n",
              "      <td>[-0.5979096, -0.022264672, -0.4483673, -0.7551...</td>\n",
              "      <td>[0.01430487, -0.09393338, 0.05576352, -0.06442...</td>\n",
              "    </tr>\n",
              "  </tbody>\n",
              "</table>\n",
              "<p>17307 rows × 6 columns</p>\n",
              "</div>\n",
              "    <div class=\"colab-df-buttons\">\n",
              "\n",
              "  <div class=\"colab-df-container\">\n",
              "    <button class=\"colab-df-convert\" onclick=\"convertToInteractive('df-fd288039-ecb9-4f4e-94a8-aad1b2b38ea2')\"\n",
              "            title=\"Convert this dataframe to an interactive table.\"\n",
              "            style=\"display:none;\">\n",
              "\n",
              "  <svg xmlns=\"http://www.w3.org/2000/svg\" height=\"24px\" viewBox=\"0 -960 960 960\">\n",
              "    <path d=\"M120-120v-720h720v720H120Zm60-500h600v-160H180v160Zm220 220h160v-160H400v160Zm0 220h160v-160H400v160ZM180-400h160v-160H180v160Zm440 0h160v-160H620v160ZM180-180h160v-160H180v160Zm440 0h160v-160H620v160Z\"/>\n",
              "  </svg>\n",
              "    </button>\n",
              "\n",
              "  <style>\n",
              "    .colab-df-container {\n",
              "      display:flex;\n",
              "      gap: 12px;\n",
              "    }\n",
              "\n",
              "    .colab-df-convert {\n",
              "      background-color: #E8F0FE;\n",
              "      border: none;\n",
              "      border-radius: 50%;\n",
              "      cursor: pointer;\n",
              "      display: none;\n",
              "      fill: #1967D2;\n",
              "      height: 32px;\n",
              "      padding: 0 0 0 0;\n",
              "      width: 32px;\n",
              "    }\n",
              "\n",
              "    .colab-df-convert:hover {\n",
              "      background-color: #E2EBFA;\n",
              "      box-shadow: 0px 1px 2px rgba(60, 64, 67, 0.3), 0px 1px 3px 1px rgba(60, 64, 67, 0.15);\n",
              "      fill: #174EA6;\n",
              "    }\n",
              "\n",
              "    .colab-df-buttons div {\n",
              "      margin-bottom: 4px;\n",
              "    }\n",
              "\n",
              "    [theme=dark] .colab-df-convert {\n",
              "      background-color: #3B4455;\n",
              "      fill: #D2E3FC;\n",
              "    }\n",
              "\n",
              "    [theme=dark] .colab-df-convert:hover {\n",
              "      background-color: #434B5C;\n",
              "      box-shadow: 0px 1px 3px 1px rgba(0, 0, 0, 0.15);\n",
              "      filter: drop-shadow(0px 1px 2px rgba(0, 0, 0, 0.3));\n",
              "      fill: #FFFFFF;\n",
              "    }\n",
              "  </style>\n",
              "\n",
              "    <script>\n",
              "      const buttonEl =\n",
              "        document.querySelector('#df-fd288039-ecb9-4f4e-94a8-aad1b2b38ea2 button.colab-df-convert');\n",
              "      buttonEl.style.display =\n",
              "        google.colab.kernel.accessAllowed ? 'block' : 'none';\n",
              "\n",
              "      async function convertToInteractive(key) {\n",
              "        const element = document.querySelector('#df-fd288039-ecb9-4f4e-94a8-aad1b2b38ea2');\n",
              "        const dataTable =\n",
              "          await google.colab.kernel.invokeFunction('convertToInteractive',\n",
              "                                                    [key], {});\n",
              "        if (!dataTable) return;\n",
              "\n",
              "        const docLinkHtml = 'Like what you see? Visit the ' +\n",
              "          '<a target=\"_blank\" href=https://colab.research.google.com/notebooks/data_table.ipynb>data table notebook</a>'\n",
              "          + ' to learn more about interactive tables.';\n",
              "        element.innerHTML = '';\n",
              "        dataTable['output_type'] = 'display_data';\n",
              "        await google.colab.output.renderOutput(dataTable, element);\n",
              "        const docLink = document.createElement('div');\n",
              "        docLink.innerHTML = docLinkHtml;\n",
              "        element.appendChild(docLink);\n",
              "      }\n",
              "    </script>\n",
              "  </div>\n",
              "\n",
              "\n",
              "<div id=\"df-fd6ff19f-dc74-4b39-a376-f6b7bb081ed1\">\n",
              "  <button class=\"colab-df-quickchart\" onclick=\"quickchart('df-fd6ff19f-dc74-4b39-a376-f6b7bb081ed1')\"\n",
              "            title=\"Suggest charts\"\n",
              "            style=\"display:none;\">\n",
              "\n",
              "<svg xmlns=\"http://www.w3.org/2000/svg\" height=\"24px\"viewBox=\"0 0 24 24\"\n",
              "     width=\"24px\">\n",
              "    <g>\n",
              "        <path d=\"M19 3H5c-1.1 0-2 .9-2 2v14c0 1.1.9 2 2 2h14c1.1 0 2-.9 2-2V5c0-1.1-.9-2-2-2zM9 17H7v-7h2v7zm4 0h-2V7h2v10zm4 0h-2v-4h2v4z\"/>\n",
              "    </g>\n",
              "</svg>\n",
              "  </button>\n",
              "\n",
              "<style>\n",
              "  .colab-df-quickchart {\n",
              "      --bg-color: #E8F0FE;\n",
              "      --fill-color: #1967D2;\n",
              "      --hover-bg-color: #E2EBFA;\n",
              "      --hover-fill-color: #174EA6;\n",
              "      --disabled-fill-color: #AAA;\n",
              "      --disabled-bg-color: #DDD;\n",
              "  }\n",
              "\n",
              "  [theme=dark] .colab-df-quickchart {\n",
              "      --bg-color: #3B4455;\n",
              "      --fill-color: #D2E3FC;\n",
              "      --hover-bg-color: #434B5C;\n",
              "      --hover-fill-color: #FFFFFF;\n",
              "      --disabled-bg-color: #3B4455;\n",
              "      --disabled-fill-color: #666;\n",
              "  }\n",
              "\n",
              "  .colab-df-quickchart {\n",
              "    background-color: var(--bg-color);\n",
              "    border: none;\n",
              "    border-radius: 50%;\n",
              "    cursor: pointer;\n",
              "    display: none;\n",
              "    fill: var(--fill-color);\n",
              "    height: 32px;\n",
              "    padding: 0;\n",
              "    width: 32px;\n",
              "  }\n",
              "\n",
              "  .colab-df-quickchart:hover {\n",
              "    background-color: var(--hover-bg-color);\n",
              "    box-shadow: 0 1px 2px rgba(60, 64, 67, 0.3), 0 1px 3px 1px rgba(60, 64, 67, 0.15);\n",
              "    fill: var(--button-hover-fill-color);\n",
              "  }\n",
              "\n",
              "  .colab-df-quickchart-complete:disabled,\n",
              "  .colab-df-quickchart-complete:disabled:hover {\n",
              "    background-color: var(--disabled-bg-color);\n",
              "    fill: var(--disabled-fill-color);\n",
              "    box-shadow: none;\n",
              "  }\n",
              "\n",
              "  .colab-df-spinner {\n",
              "    border: 2px solid var(--fill-color);\n",
              "    border-color: transparent;\n",
              "    border-bottom-color: var(--fill-color);\n",
              "    animation:\n",
              "      spin 1s steps(1) infinite;\n",
              "  }\n",
              "\n",
              "  @keyframes spin {\n",
              "    0% {\n",
              "      border-color: transparent;\n",
              "      border-bottom-color: var(--fill-color);\n",
              "      border-left-color: var(--fill-color);\n",
              "    }\n",
              "    20% {\n",
              "      border-color: transparent;\n",
              "      border-left-color: var(--fill-color);\n",
              "      border-top-color: var(--fill-color);\n",
              "    }\n",
              "    30% {\n",
              "      border-color: transparent;\n",
              "      border-left-color: var(--fill-color);\n",
              "      border-top-color: var(--fill-color);\n",
              "      border-right-color: var(--fill-color);\n",
              "    }\n",
              "    40% {\n",
              "      border-color: transparent;\n",
              "      border-right-color: var(--fill-color);\n",
              "      border-top-color: var(--fill-color);\n",
              "    }\n",
              "    60% {\n",
              "      border-color: transparent;\n",
              "      border-right-color: var(--fill-color);\n",
              "    }\n",
              "    80% {\n",
              "      border-color: transparent;\n",
              "      border-right-color: var(--fill-color);\n",
              "      border-bottom-color: var(--fill-color);\n",
              "    }\n",
              "    90% {\n",
              "      border-color: transparent;\n",
              "      border-bottom-color: var(--fill-color);\n",
              "    }\n",
              "  }\n",
              "</style>\n",
              "\n",
              "  <script>\n",
              "    async function quickchart(key) {\n",
              "      const quickchartButtonEl =\n",
              "        document.querySelector('#' + key + ' button');\n",
              "      quickchartButtonEl.disabled = true;  // To prevent multiple clicks.\n",
              "      quickchartButtonEl.classList.add('colab-df-spinner');\n",
              "      try {\n",
              "        const charts = await google.colab.kernel.invokeFunction(\n",
              "            'suggestCharts', [key], {});\n",
              "      } catch (error) {\n",
              "        console.error('Error during call to suggestCharts:', error);\n",
              "      }\n",
              "      quickchartButtonEl.classList.remove('colab-df-spinner');\n",
              "      quickchartButtonEl.classList.add('colab-df-quickchart-complete');\n",
              "    }\n",
              "    (() => {\n",
              "      let quickchartButtonEl =\n",
              "        document.querySelector('#df-fd6ff19f-dc74-4b39-a376-f6b7bb081ed1 button');\n",
              "      quickchartButtonEl.style.display =\n",
              "        google.colab.kernel.accessAllowed ? 'block' : 'none';\n",
              "    })();\n",
              "  </script>\n",
              "</div>\n",
              "\n",
              "  <div id=\"id_81624c4d-bf08-4587-b8d5-0d5e6d9fa37b\">\n",
              "    <style>\n",
              "      .colab-df-generate {\n",
              "        background-color: #E8F0FE;\n",
              "        border: none;\n",
              "        border-radius: 50%;\n",
              "        cursor: pointer;\n",
              "        display: none;\n",
              "        fill: #1967D2;\n",
              "        height: 32px;\n",
              "        padding: 0 0 0 0;\n",
              "        width: 32px;\n",
              "      }\n",
              "\n",
              "      .colab-df-generate:hover {\n",
              "        background-color: #E2EBFA;\n",
              "        box-shadow: 0px 1px 2px rgba(60, 64, 67, 0.3), 0px 1px 3px 1px rgba(60, 64, 67, 0.15);\n",
              "        fill: #174EA6;\n",
              "      }\n",
              "\n",
              "      [theme=dark] .colab-df-generate {\n",
              "        background-color: #3B4455;\n",
              "        fill: #D2E3FC;\n",
              "      }\n",
              "\n",
              "      [theme=dark] .colab-df-generate:hover {\n",
              "        background-color: #434B5C;\n",
              "        box-shadow: 0px 1px 3px 1px rgba(0, 0, 0, 0.15);\n",
              "        filter: drop-shadow(0px 1px 2px rgba(0, 0, 0, 0.3));\n",
              "        fill: #FFFFFF;\n",
              "      }\n",
              "    </style>\n",
              "    <button class=\"colab-df-generate\" onclick=\"generateWithVariable('dataset')\"\n",
              "            title=\"Generate code using this dataframe.\"\n",
              "            style=\"display:none;\">\n",
              "\n",
              "  <svg xmlns=\"http://www.w3.org/2000/svg\" height=\"24px\"viewBox=\"0 0 24 24\"\n",
              "       width=\"24px\">\n",
              "    <path d=\"M7,19H8.4L18.45,9,17,7.55,7,17.6ZM5,21V16.75L18.45,3.32a2,2,0,0,1,2.83,0l1.4,1.43a1.91,1.91,0,0,1,.58,1.4,1.91,1.91,0,0,1-.58,1.4L9.25,21ZM18.45,9,17,7.55Zm-12,3A5.31,5.31,0,0,0,4.9,8.1,5.31,5.31,0,0,0,1,6.5,5.31,5.31,0,0,0,4.9,4.9,5.31,5.31,0,0,0,6.5,1,5.31,5.31,0,0,0,8.1,4.9,5.31,5.31,0,0,0,12,6.5,5.46,5.46,0,0,0,6.5,12Z\"/>\n",
              "  </svg>\n",
              "    </button>\n",
              "    <script>\n",
              "      (() => {\n",
              "      const buttonEl =\n",
              "        document.querySelector('#id_81624c4d-bf08-4587-b8d5-0d5e6d9fa37b button.colab-df-generate');\n",
              "      buttonEl.style.display =\n",
              "        google.colab.kernel.accessAllowed ? 'block' : 'none';\n",
              "\n",
              "      buttonEl.onclick = () => {\n",
              "        google.colab.notebook.generateWithVariable('dataset');\n",
              "      }\n",
              "      })();\n",
              "    </script>\n",
              "  </div>\n",
              "\n",
              "    </div>\n",
              "  </div>\n"
            ],
            "application/vnd.google.colaboratory.intrinsic+json": {
              "type": "dataframe",
              "variable_name": "dataset",
              "summary": "{\n  \"name\": \"dataset\",\n  \"rows\": 17307,\n  \"fields\": [\n    {\n      \"column\": \"full_text\",\n      \"properties\": {\n        \"dtype\": \"string\",\n        \"num_unique_values\": 17307,\n        \"samples\": [\n          \"People tend to use there cars so much, they basically can't live or get through the day with out their car. We use the car to go every where rather it's to the grocery store , work or just to go hang out with friends and family! Just traveling in general. Well imagine if we limited the usage of cars in our community! I strongly believe that doing this would have many advantages to our community for many reasons like it will make people less stressful all the time, there would be less accidents and it would definitly be better for the environment.\\n\\nOMG I ran out of gas or OH my i have to take my car to the shop to get it fixed is usually the two main things you hear people stay when the word \\\"car\\\" comes up. Having a car comes with alot of stress because it of expenses and having to take of its every need and usually when someone is stressed they are not the best person you wanna have a conversation with. I think that if we limit the usage of cars a lot of people in the community will be alot happier. According to the article\\n\\n\\\"Car-free Cities\\\"\\n\\nby\\n\\nElisabeth Rosenthal in source 2 a lady name Heidrun Walter says \\\" When i had a car i was always tense. I'm much happier this way.\\\" and i think that is a perfect example of limited car usauage can make a person happier.\\n\\nIn addition, I feel that if that if we limit the car usage in our community it will make this community a much safer environment. We hear and see about many car accidents in our country and community and cars can be very very dangerous. People often get injuried and/or die in car recks to. So limitting the car usage in the communitry will keep people more safe and most importantly alive . Kids will be able to run aroumd the neighborhood and play with their friends and also cross the street safely without the disruption of a car coming and stopping them from what they are doing\\u00a0 because they do not wants to get hurt from the car coming because they do not know who is driving the car.\\n\\nLast but not least limiting the use of car usage in the community because it would definitly be better for the environment. In science class we often talk about how cars polute the air and just mess up the waehter in the car and me my self i can also feel the car changing the more i see cars more cars in the streets. I think that it makes the days hotter and i also think that it makes the winters come around earlier and it makes it alot more colder. I live in the Sunshine florida and in the south. So all year round its usually hot extremly hot but has i realize more people are driving around the winers seem ALOT more cold then it usually is and the cold last for longer periods of time.\\n\\nIn conclusion, I belive that if we limit the car usuage in our community it will make it a better place for many reasons. Like it will make people less stressful and\\u00a0 be happier, there will be less accidents on the road and it will also help the environment a lot. \\u00a0\\u00a0\\u00a0\\u00a0\\u00a0\\u00a0\\u00a0\\u00a0\\u00a0\\u00a0\\u00a0\\u00a0\\u00a0 \\u00a0\\u00a0\\u00a0\\u00a0\\u00a0    \",\n          \"Imagine being a top scientist at NASA and Viking 1 spacecraft \\\"spotted the shadowy likeness of a human face.\\\" A lot of people thought of alien life possibility, but others thought it to be just a natural landform. What would your thoughts be about the image? The face of Mars is a natural landform. There's similar landforms on Earth, high pixel photos taken, and not enough reliable information to support the alien life theory.\\n\\nTo begin, there are similar landforms on Earth to the one on Mars. As stated in the text, \\\"what the picture actually shows is the Martian equivalent of a butte or mesa- landforms common around the American West.\\\" Also stated in the text is Garvin giving his opinion, \\\"it reminds me most of Middle Butte in the Snake River Plain of Idaho.\\\"\\n\\nAnother issue with the alien life theory is the fact that NASA has high quality cameras. Quoting the text, \\\"each pixel in the 2001 image spans 1.56 meters, compared to 43 meters per pixel in the best 1976 Viking photo.\\\" In the result of having high quality pictures you could see small details clearly. As stated in the article Garvin said, \\\" 'so, if there were objects in this picture like airplanes on the ground or Egyptian-style pyramids or even small shacks, you could see what they were!' \\\" Concluding that statement nothing other than the landform that had resembled a face was seen on Mars.\\n\\nFinally, there wasn't enough evidence to support the claim of alien life on Mars. The first pictures were blurry and had haze or cloud coverage. This theory was more popular on the online world than in the science world. As stated in the text, \\\"the 'Face on Mars' has since become a pop icon. It has starred in a Hollywood film, appeared in books, magazines, radio talk shows-even haunted grocery store checkout lines for 25 years!\\\" This proves that this might be just for publicity and attention. There has been many conspiracy theorists.\\n\\nUltimately, the face on Mars is just a natural landform. There's similar landforms on Earth, high pixel photos taken, and not enough reliable information to support the alien life theory.       \",\n          \"The face of Mars could not be created by aliens. It is a land form created by the conditions of mars and looks like a face only by coincidence. Mesa's are common in this area of Mars and there are many others like this one just without the same shadows which makes the appearance of a human's face.\\n\\nOut of so many different land forms in Cydonia why should this be any different. In the second paragrapgh of the article, it stated that the Cydonia region is known for its buttes and mesas. The face of Mars is just another mesa no different that any other one except for its unique shadows. It is strange to see a formation on an supposedly uninhabited planet that depicts a \\\"human\\\" face. Espescially when no human has ever set foot on the planet of Mars before. But at the same time, that is all the more reason to believe that this is nothing more that a weird coincidence since no person has ever been there.\\n\\nTo conspiracy theorists dismay, this strange landform is nothing more than martian butte or mesa and a weird coincidence. It is an interesting formation that stumped and puzzled scientests all over the world. But we now know the formation is not anything that will reveal alien lifeforms or alien activity.        \"\n        ],\n        \"semantic_type\": \"\",\n        \"description\": \"\"\n      }\n    },\n    {\n      \"column\": \"score\",\n      \"properties\": {\n        \"dtype\": \"number\",\n        \"std\": 1,\n        \"min\": 0,\n        \"max\": 5,\n        \"num_unique_values\": 6,\n        \"samples\": [\n          2,\n          3,\n          5\n        ],\n        \"semantic_type\": \"\",\n        \"description\": \"\"\n      }\n    },\n    {\n      \"column\": \"tokens\",\n      \"properties\": {\n        \"dtype\": \"object\",\n        \"semantic_type\": \"\",\n        \"description\": \"\"\n      }\n    },\n    {\n      \"column\": \"bert_vectors\",\n      \"properties\": {\n        \"dtype\": \"object\",\n        \"semantic_type\": \"\",\n        \"description\": \"\"\n      }\n    },\n    {\n      \"column\": \"doc2vec_vectors\",\n      \"properties\": {\n        \"dtype\": \"object\",\n        \"semantic_type\": \"\",\n        \"description\": \"\"\n      }\n    },\n    {\n      \"column\": \"word2vec_embedding\",\n      \"properties\": {\n        \"dtype\": \"object\",\n        \"semantic_type\": \"\",\n        \"description\": \"\"\n      }\n    }\n  ]\n}"
            }
          },
          "metadata": {},
          "execution_count": 57
        }
      ],
      "source": [
        "dataset"
      ]
    },
    {
      "cell_type": "markdown",
      "id": "155969be",
      "metadata": {
        "id": "155969be"
      },
      "source": [
        "# LDA Model:"
      ]
    },
    {
      "cell_type": "code",
      "execution_count": null,
      "id": "90d295c2",
      "metadata": {
        "id": "90d295c2"
      },
      "outputs": [],
      "source": [
        "# Create a dictionary and corpus for LDA\n",
        "dictionary = corpora.Dictionary(dataset['tokens'])\n",
        "corpus = [dictionary.doc2bow(text) for text in dataset['tokens']]\n",
        "\n",
        "# Train LDA model\n",
        "num_topics = 500  # Adjust the number of topics as needed\n",
        "lda_model = LdaModel(corpus, num_topics=num_topics, id2word=dictionary, passes=15)\n",
        "\n",
        "# Function to get topic distribution for a document\n",
        "def get_topic_distribution(lda_model, corpus, num_topics):\n",
        "    topics = lda_model.get_document_topics(corpus, minimum_probability=0)\n",
        "    topic_matrix = np.zeros((len(corpus), num_topics))\n",
        "    for i, topic_dist in enumerate(topics):\n",
        "        for topic, prob in topic_dist:\n",
        "            topic_matrix[i][topic] = prob\n",
        "    return topic_matrix\n",
        "\n",
        "# Generate document-topic vectors\n",
        "topic_vectors = get_topic_distribution(lda_model, corpus, num_topics)\n",
        "dataset['lda_vectors'] = list(topic_vectors)\n",
        "\n",
        "# Ensure all document vectors are valid (remove any NaN vectors)\n",
        "dataset = dataset.dropna(subset=['lda_vectors'])\n"
      ]
    },
    {
      "cell_type": "code",
      "source": [
        "dataset['lda_vectors'][0]"
      ],
      "metadata": {
        "colab": {
          "base_uri": "https://localhost:8080/"
        },
        "id": "jPq6wk5hddPA",
        "outputId": "49fd1fb8-b1d8-4624-a423-d947cde2f509"
      },
      "id": "jPq6wk5hddPA",
      "execution_count": null,
      "outputs": [
        {
          "output_type": "execute_result",
          "data": {
            "text/plain": [
              "array([4.28653129e-06, 4.28653129e-06, 4.28653129e-06, 4.28653129e-06,\n",
              "       4.28653129e-06, 4.28653129e-06, 4.28653129e-06, 4.28653129e-06,\n",
              "       4.28653129e-06, 4.99042347e-02, 4.28653129e-06, 4.28653129e-06,\n",
              "       4.28653129e-06, 4.28653129e-06, 4.28653129e-06, 4.28653129e-06,\n",
              "       1.03608385e-01, 4.28653129e-06, 4.28653129e-06, 4.28653129e-06,\n",
              "       4.28653129e-06, 4.28653129e-06, 4.28653129e-06, 4.28653129e-06,\n",
              "       4.28653129e-06, 4.28653129e-06, 4.28653129e-06, 4.28653129e-06,\n",
              "       4.28653129e-06, 4.28653129e-06, 4.28653129e-06, 4.28653129e-06,\n",
              "       4.28653129e-06, 4.28653129e-06, 4.28653129e-06, 4.28653129e-06,\n",
              "       4.28653129e-06, 4.28653129e-06, 4.28653129e-06, 4.28653129e-06,\n",
              "       4.28653129e-06, 4.28653129e-06, 4.28653129e-06, 4.28653129e-06,\n",
              "       4.28653129e-06, 4.28653129e-06, 4.28653129e-06, 4.28653129e-06,\n",
              "       4.28653129e-06, 4.28653129e-06, 4.28653129e-06, 4.28653129e-06,\n",
              "       4.28653129e-06, 4.28653129e-06, 4.28653129e-06, 4.28653129e-06,\n",
              "       4.28653129e-06, 4.28653129e-06, 2.16306280e-02, 4.28653129e-06,\n",
              "       5.20744966e-03, 4.28653129e-06, 4.28653129e-06, 4.28653129e-06,\n",
              "       4.28653129e-06, 4.28653129e-06, 4.28653129e-06, 4.28653129e-06,\n",
              "       2.14722077e-03, 4.28653129e-06, 4.28653129e-06, 4.28653129e-06,\n",
              "       4.28653129e-06, 4.28653129e-06, 4.28653129e-06, 4.28653129e-06,\n",
              "       4.28653129e-06, 4.28653129e-06, 4.28653129e-06, 4.28653129e-06,\n",
              "       4.28653129e-06, 4.28653129e-06, 4.28653129e-06, 4.28653129e-06,\n",
              "       4.28653129e-06, 4.28653129e-06, 4.28653129e-06, 4.28653129e-06,\n",
              "       4.28653129e-06, 4.28653129e-06, 4.28653129e-06, 4.28653129e-06,\n",
              "       4.28653129e-06, 4.28653129e-06, 4.28653129e-06, 3.06556318e-02,\n",
              "       4.28653129e-06, 4.28653129e-06, 4.28653129e-06, 4.28653129e-06,\n",
              "       4.28653129e-06, 4.28653129e-06, 4.28653129e-06, 4.28653129e-06,\n",
              "       4.28653129e-06, 4.28653129e-06, 4.28653129e-06, 4.28653129e-06,\n",
              "       4.28653129e-06, 4.28653129e-06, 4.28653129e-06, 4.28653129e-06,\n",
              "       4.28653129e-06, 4.28653129e-06, 4.28653129e-06, 4.28653129e-06,\n",
              "       4.28653129e-06, 4.28653129e-06, 4.28653129e-06, 4.28653129e-06,\n",
              "       4.28653129e-06, 4.28653129e-06, 4.28653129e-06, 4.28653129e-06,\n",
              "       4.28653129e-06, 5.73235191e-03, 4.28653129e-06, 4.28653129e-06,\n",
              "       4.28653129e-06, 4.28653129e-06, 8.78924690e-03, 2.14577164e-03,\n",
              "       4.28653129e-06, 4.28653129e-06, 4.28653129e-06, 4.28653129e-06,\n",
              "       4.28653129e-06, 4.28653129e-06, 4.28653129e-06, 4.28653129e-06,\n",
              "       4.28653129e-06, 4.28653129e-06, 4.28653129e-06, 4.28653129e-06,\n",
              "       4.28653129e-06, 4.28653129e-06, 4.28653129e-06, 4.28653129e-06,\n",
              "       1.83150042e-02, 4.28653129e-06, 4.28653129e-06, 4.28653129e-06,\n",
              "       4.28653129e-06, 4.28653129e-06, 4.28653129e-06, 4.28653129e-06,\n",
              "       4.28653129e-06, 4.28653129e-06, 4.28653129e-06, 4.28653129e-06,\n",
              "       4.28653129e-06, 4.28653129e-06, 2.14160327e-03, 2.03135926e-02,\n",
              "       4.28653129e-06, 4.28653129e-06, 4.28653129e-06, 4.28653129e-06,\n",
              "       4.28653129e-06, 4.28653129e-06, 4.28653129e-06, 4.28653129e-06,\n",
              "       4.28653129e-06, 4.28653129e-06, 4.28653129e-06, 4.28653129e-06,\n",
              "       4.28653129e-06, 4.28653129e-06, 4.28653129e-06, 4.28653129e-06,\n",
              "       4.28653129e-06, 4.28653129e-06, 4.28653129e-06, 4.28653129e-06,\n",
              "       5.65532893e-02, 4.28653129e-06, 4.28653129e-06, 4.28653129e-06,\n",
              "       4.28653129e-06, 4.28653129e-06, 4.28653129e-06, 4.28653129e-06,\n",
              "       4.28653129e-06, 4.28653129e-06, 4.28653129e-06, 4.28653129e-06,\n",
              "       4.28653129e-06, 4.28653129e-06, 4.28653129e-06, 4.28653129e-06,\n",
              "       4.28653129e-06, 4.28653129e-06, 4.28653129e-06, 4.28653129e-06,\n",
              "       4.28653129e-06, 2.35816394e-03, 4.28653129e-06, 4.28653129e-06,\n",
              "       4.28653129e-06, 4.28653129e-06, 2.14722822e-03, 4.28653129e-06,\n",
              "       4.28653129e-06, 4.28653129e-06, 4.28653129e-06, 4.28653129e-06,\n",
              "       4.28653129e-06, 4.28653129e-06, 4.28653129e-06, 4.28653129e-06,\n",
              "       4.28653129e-06, 4.28653129e-06, 2.13700393e-03, 2.14704429e-03,\n",
              "       4.28653129e-06, 4.28653129e-06, 4.28653129e-06, 4.28653129e-06,\n",
              "       4.28653129e-06, 4.28653129e-06, 4.28653129e-06, 4.28653129e-06,\n",
              "       4.28653129e-06, 4.28653129e-06, 4.28653129e-06, 4.28653129e-06,\n",
              "       4.28653129e-06, 1.87795481e-03, 4.28653129e-06, 4.28653129e-06,\n",
              "       4.28653129e-06, 4.28653129e-06, 4.28653129e-06, 4.28653129e-06,\n",
              "       4.28653129e-06, 4.28653129e-06, 4.28653129e-06, 4.28653129e-06,\n",
              "       4.28653129e-06, 4.28653129e-06, 4.28653129e-06, 4.28653129e-06,\n",
              "       4.28653129e-06, 4.28653129e-06, 4.28653129e-06, 4.28653129e-06,\n",
              "       6.09603245e-03, 4.28653129e-06, 4.28653129e-06, 4.28653129e-06,\n",
              "       4.28653129e-06, 4.28653129e-06, 4.28653129e-06, 6.43388787e-03,\n",
              "       4.28653129e-06, 4.28653129e-06, 4.28653129e-06, 4.28653129e-06,\n",
              "       4.28653129e-06, 4.28653129e-06, 4.28653129e-06, 4.28653129e-06,\n",
              "       4.28653129e-06, 4.28653129e-06, 4.28653129e-06, 4.28653129e-06,\n",
              "       4.28653129e-06, 4.28653129e-06, 4.28653129e-06, 4.28653129e-06,\n",
              "       4.28653129e-06, 4.28653129e-06, 4.28653129e-06, 4.28653129e-06,\n",
              "       4.28653129e-06, 1.44015238e-01, 4.28653129e-06, 4.28653129e-06,\n",
              "       4.28653129e-06, 3.07913264e-03, 4.28653129e-06, 4.28653129e-06,\n",
              "       4.28653129e-06, 4.28653129e-06, 4.28653129e-06, 4.28653129e-06,\n",
              "       4.28653129e-06, 4.28653129e-06, 4.28653129e-06, 4.28653129e-06,\n",
              "       4.28653129e-06, 4.28653129e-06, 4.28653129e-06, 4.28653129e-06,\n",
              "       4.28653129e-06, 4.28653129e-06, 4.28653129e-06, 4.28653129e-06,\n",
              "       4.28653129e-06, 4.28653129e-06, 4.28653129e-06, 4.28653129e-06,\n",
              "       4.28653129e-06, 7.09233899e-03, 4.28653129e-06, 4.28653129e-06,\n",
              "       4.28653129e-06, 4.28653129e-06, 4.28653129e-06, 4.28653129e-06,\n",
              "       4.28653129e-06, 4.28653129e-06, 4.28653129e-06, 4.28653129e-06,\n",
              "       4.28653129e-06, 4.28653129e-06, 4.28653129e-06, 6.43129507e-03,\n",
              "       4.28653129e-06, 4.28653129e-06, 4.28653129e-06, 4.28653129e-06,\n",
              "       4.28653129e-06, 4.28653129e-06, 4.28653129e-06, 4.28653129e-06,\n",
              "       4.28653129e-06, 4.28653129e-06, 4.28653129e-06, 4.28653129e-06,\n",
              "       4.28653129e-06, 4.28653129e-06, 4.28653129e-06, 4.28653129e-06,\n",
              "       4.28653129e-06, 4.28653129e-06, 4.28653129e-06, 4.28653129e-06,\n",
              "       4.28653129e-06, 4.28653129e-06, 4.28653129e-06, 4.28653129e-06,\n",
              "       4.28653129e-06, 4.28653129e-06, 4.28653129e-06, 4.28653129e-06,\n",
              "       2.17828713e-03, 4.28653129e-06, 4.28653129e-06, 4.28653129e-06,\n",
              "       2.14661937e-03, 4.28653129e-06, 4.28653129e-06, 4.28653129e-06,\n",
              "       4.28653129e-06, 4.28653129e-06, 4.28653129e-06, 4.28653129e-06,\n",
              "       4.28653129e-06, 4.28653129e-06, 4.28653129e-06, 2.22517811e-02,\n",
              "       4.28653129e-06, 4.28653129e-06, 4.28653129e-06, 4.28653129e-06,\n",
              "       4.28653129e-06, 4.28653129e-06, 4.28653129e-06, 4.28653129e-06,\n",
              "       4.28653129e-06, 4.28653129e-06, 4.28653129e-06, 4.28653129e-06,\n",
              "       5.87468548e-03, 4.28653129e-06, 4.28653129e-06, 4.28653129e-06,\n",
              "       4.28653129e-06, 4.28653129e-06, 4.28653129e-06, 4.28653129e-06,\n",
              "       1.14186950e-01, 4.28653129e-06, 4.28653129e-06, 4.28653129e-06,\n",
              "       4.28653129e-06, 4.28653129e-06, 4.28653129e-06, 4.28653129e-06,\n",
              "       4.28653129e-06, 4.28653129e-06, 4.28653129e-06, 4.28653129e-06,\n",
              "       4.28653129e-06, 4.28653129e-06, 4.28653129e-06, 4.28653129e-06,\n",
              "       4.28653129e-06, 4.28653129e-06, 4.28653129e-06, 4.28653129e-06,\n",
              "       4.28653129e-06, 4.28653129e-06, 4.28653129e-06, 4.28653129e-06,\n",
              "       4.28653129e-06, 4.28653129e-06, 4.28653129e-06, 4.28653129e-06,\n",
              "       4.28653129e-06, 4.28653129e-06, 2.14731670e-03, 4.28653129e-06,\n",
              "       4.28653129e-06, 4.28653129e-06, 4.28653129e-06, 4.28653129e-06,\n",
              "       4.28653129e-06, 4.28653129e-06, 4.28653129e-06, 4.28653129e-06,\n",
              "       4.28653129e-06, 4.28653129e-06, 4.28653129e-06, 4.28653129e-06,\n",
              "       4.28653129e-06, 4.28653129e-06, 4.28653129e-06, 4.28653129e-06,\n",
              "       4.28653129e-06, 4.28653129e-06, 4.28653129e-06, 4.28653129e-06,\n",
              "       4.28653129e-06, 4.28653129e-06, 4.28653129e-06, 4.28653129e-06,\n",
              "       4.28653129e-06, 4.28653129e-06, 4.28653129e-06, 4.28653129e-06,\n",
              "       4.28653129e-06, 4.28653129e-06, 4.28653129e-06, 4.28653129e-06,\n",
              "       4.28653129e-06, 4.28653129e-06, 4.28653129e-06, 4.28653129e-06,\n",
              "       4.28653129e-06, 4.28653129e-06, 2.14644754e-03, 4.28653129e-06,\n",
              "       4.28653129e-06, 4.28653129e-06, 4.28653129e-06, 4.28653129e-06,\n",
              "       4.28653129e-06, 4.28653129e-06, 4.28653129e-06, 4.28653129e-06,\n",
              "       4.28653129e-06, 4.28653129e-06, 4.28653129e-06, 4.28653129e-06,\n",
              "       4.28653129e-06, 4.28653129e-06, 4.28653129e-06, 4.28653129e-06,\n",
              "       4.28653129e-06, 4.28653129e-06, 4.28653129e-06, 4.28653129e-06,\n",
              "       4.28653129e-06, 4.28653129e-06, 4.28653129e-06, 4.28653129e-06,\n",
              "       4.28653129e-06, 2.49797525e-03, 4.28653129e-06, 4.28653129e-06,\n",
              "       4.28653129e-06, 3.33608389e-01, 4.28653129e-06, 4.28653129e-06,\n",
              "       4.28653129e-06, 4.28653129e-06, 4.28653129e-06, 4.28653129e-06])"
            ]
          },
          "metadata": {},
          "execution_count": 10
        }
      ]
    },
    {
      "cell_type": "code",
      "source": [
        "len(dataset['lda_vectors'][100])"
      ],
      "metadata": {
        "colab": {
          "base_uri": "https://localhost:8080/"
        },
        "id": "fRCxAJk6ZPI5",
        "outputId": "7acb5737-b579-45eb-fee2-7621c9f20868"
      },
      "id": "fRCxAJk6ZPI5",
      "execution_count": null,
      "outputs": [
        {
          "output_type": "execute_result",
          "data": {
            "text/plain": [
              "500"
            ]
          },
          "metadata": {},
          "execution_count": 12
        }
      ]
    },
    {
      "cell_type": "code",
      "source": [
        "X = np.array(list(dataset['lda_vectors']))\n",
        "y = dataset['score']\n",
        "train_xgb(X, y)"
      ],
      "metadata": {
        "colab": {
          "base_uri": "https://localhost:8080/",
          "height": 541
        },
        "id": "dq1cPV9iXWSj",
        "outputId": "fea9a1cb-b599-4e94-d9ac-f4a8621d30e2"
      },
      "id": "dq1cPV9iXWSj",
      "execution_count": null,
      "outputs": [
        {
          "output_type": "stream",
          "name": "stdout",
          "text": [
            "Accuracy: 0.5924321201617562\n"
          ]
        },
        {
          "output_type": "display_data",
          "data": {
            "text/plain": [
              "<Figure size 640x480 with 2 Axes>"
            ],
            "image/png": "[encoded data removed]"
          },
          "metadata": {}
        },
        {
          "output_type": "stream",
          "name": "stdout",
          "text": [
            "Precision: 0.59\n",
            "Recall: 0.59\n",
            "Quadratic Weighted Kappa (QWK): 0.74\n"
          ]
        }
      ]
    },
    {
      "cell_type": "markdown",
      "id": "eed43718",
      "metadata": {
        "id": "eed43718"
      },
      "source": [
        "# BERT Model:"
      ]
    },
    {
      "cell_type": "code",
      "source": [
        "device = torch.device('cuda' if torch.cuda.is_available() else 'cpu')\n",
        "print(f\"Using device: {device}\")"
      ],
      "metadata": {
        "colab": {
          "base_uri": "https://localhost:8080/"
        },
        "id": "3gEigx71rr50",
        "outputId": "38742747-2c10-46a6-f127-88f83baf6c13"
      },
      "id": "3gEigx71rr50",
      "execution_count": null,
      "outputs": [
        {
          "output_type": "stream",
          "name": "stdout",
          "text": [
            "Using device: cuda\n"
          ]
        }
      ]
    },
    {
      "cell_type": "code",
      "execution_count": null,
      "id": "271fdda5",
      "metadata": {
        "colab": {
          "base_uri": "https://localhost:8080/",
          "height": 49,
          "referenced_widgets": [
            "a82620da79b249d0b0ac8a044f3f28db",
            "63068263721240038245d2e41d14bb78",
            "dc7cc67b7ddc4f328fa7cd675b95f438",
            "bcd6e1fc96ee4316ae167c11f88ad66f",
            "dbf1a1f93d0247a69383ecebc40a51c5",
            "6a748eb65d074a6798d8895f3da8d742",
            "3d819d0cea574e66a62777c8b3fcf169",
            "f0f8f5d24a9b46df9632bb452b650e7a",
            "42438c09966e496da5a5b3b561003745",
            "eaeaed4bc0d7459eb7c07da4b7629295",
            "60d49dfb03d44f80b3dbf914c43ccb03"
          ]
        },
        "id": "271fdda5",
        "outputId": "c09e79fa-be4f-466f-e1b6-bf71b7d30da1"
      },
      "outputs": [
        {
          "output_type": "display_data",
          "data": {
            "text/plain": [
              "model.safetensors:   0%|          | 0.00/440M [00:00<?, ?B/s]"
            ],
            "application/vnd.jupyter.widget-view+json": {
              "version_major": 2,
              "version_minor": 0,
              "model_id": "a82620da79b249d0b0ac8a044f3f28db"
            }
          },
          "metadata": {}
        }
      ],
      "source": [
        "tokenizer = BertTokenizer.from_pretrained('bert-base-uncased')\n",
        "model = BertModel.from_pretrained('bert-base-uncased').to(device)\n",
        "\n",
        "def get_bert_embeddings(text):\n",
        "    encoded_batch = tokenizer(text, padding=True, truncation=True, return_tensors='pt').to(device)\n",
        "    with torch.no_grad():\n",
        "        output = model(**encoded_batch)\n",
        "        batch_embeddings = output.pooler_output\n",
        "    return batch_embeddings.cpu().numpy()\n",
        "dataset['bert_vectors'] = dataset.full_text.apply(get_bert_embeddings)"
      ]
    },
    {
      "cell_type": "code",
      "source": [
        "dataset"
      ],
      "metadata": {
        "colab": {
          "base_uri": "https://localhost:8080/",
          "height": 597
        },
        "id": "63b78g8usWVB",
        "outputId": "7c385927-48dd-4dd2-ed07-ec1721cf235b"
      },
      "id": "63b78g8usWVB",
      "execution_count": null,
      "outputs": [
        {
          "output_type": "execute_result",
          "data": {
            "text/plain": [
              "                                               full_text  score  \\\n",
              "0      Many people have car where they live. The thin...      2   \n",
              "1      I am a scientist at NASA that is discussing th...      2   \n",
              "2      People always wish they had the same technolog...      3   \n",
              "3      We all heard about Venus, the planet without a...      3   \n",
              "4      Dear, State Senator\\n\\nThis is a letter to arg...      2   \n",
              "...                                                  ...    ...   \n",
              "17302  the story \" The Challenge of Exploing Venus \" ...      1   \n",
              "17303  Technology has changed a lot of ways that we l...      3   \n",
              "17304  If you don't like sitting around all day than ...      1   \n",
              "17305  In \"The Challenge of Exporing Venus,\" the auth...      0   \n",
              "17306  Venus is worthy place to study but dangerous. ...      1   \n",
              "\n",
              "                                                  tokens  \\\n",
              "0      [many, people, car, live, thing, know, use, ca...   \n",
              "1      [scientist, nasa, discussing, face, mars, expl...   \n",
              "2      [people, always, wish, technology, seen, movie...   \n",
              "3      [heard, venus, planet, without, almost, oxygen...   \n",
              "4      [dear, state, senator, letter, argue, favor, k...   \n",
              "...                                                  ...   \n",
              "17302  [story, challenge, exploing, venus, informativ...   \n",
              "17303  [technology, changed, lot, ways, live, today, ...   \n",
              "17304  [like, sitting, around, day, great, opportunit...   \n",
              "17305  [challenge, exporing, venus, author, suggests,...   \n",
              "17306  [venus, worthy, place, study, dangerous, reaos...   \n",
              "\n",
              "                                            bert_vectors  \n",
              "0      [[-0.4510786, -0.61312973, -0.9915619, 0.58666...  \n",
              "1      [[-0.44012108, -0.6400353, -0.9984654, 0.58960...  \n",
              "2      [[-0.6941047, -0.70088804, -0.9976579, 0.69354...  \n",
              "3      [[-0.47142595, -0.58093745, -0.96070683, 0.292...  \n",
              "4      [[-0.9814893, -0.92573893, -0.99992716, 0.9851...  \n",
              "...                                                  ...  \n",
              "17302  [[-0.10388627, -0.24056004, -0.97392523, 0.198...  \n",
              "17303  [[-0.4643471, -0.47675395, -0.9489571, 0.28652...  \n",
              "17304  [[-0.6860596, -0.6364956, -0.997904, 0.7050073...  \n",
              "17305  [[-0.55692744, -0.58910525, -0.9882614, 0.3367...  \n",
              "17306  [[-0.22936614, -0.24968699, -0.97274, 0.450244...  \n",
              "\n",
              "[17307 rows x 4 columns]"
            ],
            "text/html": [
              "\n",
              "  <div id=\"df-0c2d415d-2fd8-4629-bc79-d02f9a72daa0\" class=\"colab-df-container\">\n",
              "    <div>\n",
              "<style scoped>\n",
              "    .dataframe tbody tr th:only-of-type {\n",
              "        vertical-align: middle;\n",
              "    }\n",
              "\n",
              "    .dataframe tbody tr th {\n",
              "        vertical-align: top;\n",
              "    }\n",
              "\n",
              "    .dataframe thead th {\n",
              "        text-align: right;\n",
              "    }\n",
              "</style>\n",
              "<table border=\"1\" class=\"dataframe\">\n",
              "  <thead>\n",
              "    <tr style=\"text-align: right;\">\n",
              "      <th></th>\n",
              "      <th>full_text</th>\n",
              "      <th>score</th>\n",
              "      <th>tokens</th>\n",
              "      <th>bert_vectors</th>\n",
              "    </tr>\n",
              "  </thead>\n",
              "  <tbody>\n",
              "    <tr>\n",
              "      <th>0</th>\n",
              "      <td>Many people have car where they live. The thin...</td>\n",
              "      <td>2</td>\n",
              "      <td>[many, people, car, live, thing, know, use, ca...</td>\n",
              "      <td>[[-0.4510786, -0.61312973, -0.9915619, 0.58666...</td>\n",
              "    </tr>\n",
              "    <tr>\n",
              "      <th>1</th>\n",
              "      <td>I am a scientist at NASA that is discussing th...</td>\n",
              "      <td>2</td>\n",
              "      <td>[scientist, nasa, discussing, face, mars, expl...</td>\n",
              "      <td>[[-0.44012108, -0.6400353, -0.9984654, 0.58960...</td>\n",
              "    </tr>\n",
              "    <tr>\n",
              "      <th>2</th>\n",
              "      <td>People always wish they had the same technolog...</td>\n",
              "      <td>3</td>\n",
              "      <td>[people, always, wish, technology, seen, movie...</td>\n",
              "      <td>[[-0.6941047, -0.70088804, -0.9976579, 0.69354...</td>\n",
              "    </tr>\n",
              "    <tr>\n",
              "      <th>3</th>\n",
              "      <td>We all heard about Venus, the planet without a...</td>\n",
              "      <td>3</td>\n",
              "      <td>[heard, venus, planet, without, almost, oxygen...</td>\n",
              "      <td>[[-0.47142595, -0.58093745, -0.96070683, 0.292...</td>\n",
              "    </tr>\n",
              "    <tr>\n",
              "      <th>4</th>\n",
              "      <td>Dear, State Senator\\n\\nThis is a letter to arg...</td>\n",
              "      <td>2</td>\n",
              "      <td>[dear, state, senator, letter, argue, favor, k...</td>\n",
              "      <td>[[-0.9814893, -0.92573893, -0.99992716, 0.9851...</td>\n",
              "    </tr>\n",
              "    <tr>\n",
              "      <th>...</th>\n",
              "      <td>...</td>\n",
              "      <td>...</td>\n",
              "      <td>...</td>\n",
              "      <td>...</td>\n",
              "    </tr>\n",
              "    <tr>\n",
              "      <th>17302</th>\n",
              "      <td>the story \" The Challenge of Exploing Venus \" ...</td>\n",
              "      <td>1</td>\n",
              "      <td>[story, challenge, exploing, venus, informativ...</td>\n",
              "      <td>[[-0.10388627, -0.24056004, -0.97392523, 0.198...</td>\n",
              "    </tr>\n",
              "    <tr>\n",
              "      <th>17303</th>\n",
              "      <td>Technology has changed a lot of ways that we l...</td>\n",
              "      <td>3</td>\n",
              "      <td>[technology, changed, lot, ways, live, today, ...</td>\n",
              "      <td>[[-0.4643471, -0.47675395, -0.9489571, 0.28652...</td>\n",
              "    </tr>\n",
              "    <tr>\n",
              "      <th>17304</th>\n",
              "      <td>If you don't like sitting around all day than ...</td>\n",
              "      <td>1</td>\n",
              "      <td>[like, sitting, around, day, great, opportunit...</td>\n",
              "      <td>[[-0.6860596, -0.6364956, -0.997904, 0.7050073...</td>\n",
              "    </tr>\n",
              "    <tr>\n",
              "      <th>17305</th>\n",
              "      <td>In \"The Challenge of Exporing Venus,\" the auth...</td>\n",
              "      <td>0</td>\n",
              "      <td>[challenge, exporing, venus, author, suggests,...</td>\n",
              "      <td>[[-0.55692744, -0.58910525, -0.9882614, 0.3367...</td>\n",
              "    </tr>\n",
              "    <tr>\n",
              "      <th>17306</th>\n",
              "      <td>Venus is worthy place to study but dangerous. ...</td>\n",
              "      <td>1</td>\n",
              "      <td>[venus, worthy, place, study, dangerous, reaos...</td>\n",
              "      <td>[[-0.22936614, -0.24968699, -0.97274, 0.450244...</td>\n",
              "    </tr>\n",
              "  </tbody>\n",
              "</table>\n",
              "<p>17307 rows × 4 columns</p>\n",
              "</div>\n",
              "    <div class=\"colab-df-buttons\">\n",
              "\n",
              "  <div class=\"colab-df-container\">\n",
              "    <button class=\"colab-df-convert\" onclick=\"convertToInteractive('df-0c2d415d-2fd8-4629-bc79-d02f9a72daa0')\"\n",
              "            title=\"Convert this dataframe to an interactive table.\"\n",
              "            style=\"display:none;\">\n",
              "\n",
              "  <svg xmlns=\"http://www.w3.org/2000/svg\" height=\"24px\" viewBox=\"0 -960 960 960\">\n",
              "    <path d=\"M120-120v-720h720v720H120Zm60-500h600v-160H180v160Zm220 220h160v-160H400v160Zm0 220h160v-160H400v160ZM180-400h160v-160H180v160Zm440 0h160v-160H620v160ZM180-180h160v-160H180v160Zm440 0h160v-160H620v160Z\"/>\n",
              "  </svg>\n",
              "    </button>\n",
              "\n",
              "  <style>\n",
              "    .colab-df-container {\n",
              "      display:flex;\n",
              "      gap: 12px;\n",
              "    }\n",
              "\n",
              "    .colab-df-convert {\n",
              "      background-color: #E8F0FE;\n",
              "      border: none;\n",
              "      border-radius: 50%;\n",
              "      cursor: pointer;\n",
              "      display: none;\n",
              "      fill: #1967D2;\n",
              "      height: 32px;\n",
              "      padding: 0 0 0 0;\n",
              "      width: 32px;\n",
              "    }\n",
              "\n",
              "    .colab-df-convert:hover {\n",
              "      background-color: #E2EBFA;\n",
              "      box-shadow: 0px 1px 2px rgba(60, 64, 67, 0.3), 0px 1px 3px 1px rgba(60, 64, 67, 0.15);\n",
              "      fill: #174EA6;\n",
              "    }\n",
              "\n",
              "    .colab-df-buttons div {\n",
              "      margin-bottom: 4px;\n",
              "    }\n",
              "\n",
              "    [theme=dark] .colab-df-convert {\n",
              "      background-color: #3B4455;\n",
              "      fill: #D2E3FC;\n",
              "    }\n",
              "\n",
              "    [theme=dark] .colab-df-convert:hover {\n",
              "      background-color: #434B5C;\n",
              "      box-shadow: 0px 1px 3px 1px rgba(0, 0, 0, 0.15);\n",
              "      filter: drop-shadow(0px 1px 2px rgba(0, 0, 0, 0.3));\n",
              "      fill: #FFFFFF;\n",
              "    }\n",
              "  </style>\n",
              "\n",
              "    <script>\n",
              "      const buttonEl =\n",
              "        document.querySelector('#df-0c2d415d-2fd8-4629-bc79-d02f9a72daa0 button.colab-df-convert');\n",
              "      buttonEl.style.display =\n",
              "        google.colab.kernel.accessAllowed ? 'block' : 'none';\n",
              "\n",
              "      async function convertToInteractive(key) {\n",
              "        const element = document.querySelector('#df-0c2d415d-2fd8-4629-bc79-d02f9a72daa0');\n",
              "        const dataTable =\n",
              "          await google.colab.kernel.invokeFunction('convertToInteractive',\n",
              "                                                    [key], {});\n",
              "        if (!dataTable) return;\n",
              "\n",
              "        const docLinkHtml = 'Like what you see? Visit the ' +\n",
              "          '<a target=\"_blank\" href=https://colab.research.google.com/notebooks/data_table.ipynb>data table notebook</a>'\n",
              "          + ' to learn more about interactive tables.';\n",
              "        element.innerHTML = '';\n",
              "        dataTable['output_type'] = 'display_data';\n",
              "        await google.colab.output.renderOutput(dataTable, element);\n",
              "        const docLink = document.createElement('div');\n",
              "        docLink.innerHTML = docLinkHtml;\n",
              "        element.appendChild(docLink);\n",
              "      }\n",
              "    </script>\n",
              "  </div>\n",
              "\n",
              "\n",
              "<div id=\"df-a0b176b1-e37d-44e8-a84c-0c58efbf0f36\">\n",
              "  <button class=\"colab-df-quickchart\" onclick=\"quickchart('df-a0b176b1-e37d-44e8-a84c-0c58efbf0f36')\"\n",
              "            title=\"Suggest charts\"\n",
              "            style=\"display:none;\">\n",
              "\n",
              "<svg xmlns=\"http://www.w3.org/2000/svg\" height=\"24px\"viewBox=\"0 0 24 24\"\n",
              "     width=\"24px\">\n",
              "    <g>\n",
              "        <path d=\"M19 3H5c-1.1 0-2 .9-2 2v14c0 1.1.9 2 2 2h14c1.1 0 2-.9 2-2V5c0-1.1-.9-2-2-2zM9 17H7v-7h2v7zm4 0h-2V7h2v10zm4 0h-2v-4h2v4z\"/>\n",
              "    </g>\n",
              "</svg>\n",
              "  </button>\n",
              "\n",
              "<style>\n",
              "  .colab-df-quickchart {\n",
              "      --bg-color: #E8F0FE;\n",
              "      --fill-color: #1967D2;\n",
              "      --hover-bg-color: #E2EBFA;\n",
              "      --hover-fill-color: #174EA6;\n",
              "      --disabled-fill-color: #AAA;\n",
              "      --disabled-bg-color: #DDD;\n",
              "  }\n",
              "\n",
              "  [theme=dark] .colab-df-quickchart {\n",
              "      --bg-color: #3B4455;\n",
              "      --fill-color: #D2E3FC;\n",
              "      --hover-bg-color: #434B5C;\n",
              "      --hover-fill-color: #FFFFFF;\n",
              "      --disabled-bg-color: #3B4455;\n",
              "      --disabled-fill-color: #666;\n",
              "  }\n",
              "\n",
              "  .colab-df-quickchart {\n",
              "    background-color: var(--bg-color);\n",
              "    border: none;\n",
              "    border-radius: 50%;\n",
              "    cursor: pointer;\n",
              "    display: none;\n",
              "    fill: var(--fill-color);\n",
              "    height: 32px;\n",
              "    padding: 0;\n",
              "    width: 32px;\n",
              "  }\n",
              "\n",
              "  .colab-df-quickchart:hover {\n",
              "    background-color: var(--hover-bg-color);\n",
              "    box-shadow: 0 1px 2px rgba(60, 64, 67, 0.3), 0 1px 3px 1px rgba(60, 64, 67, 0.15);\n",
              "    fill: var(--button-hover-fill-color);\n",
              "  }\n",
              "\n",
              "  .colab-df-quickchart-complete:disabled,\n",
              "  .colab-df-quickchart-complete:disabled:hover {\n",
              "    background-color: var(--disabled-bg-color);\n",
              "    fill: var(--disabled-fill-color);\n",
              "    box-shadow: none;\n",
              "  }\n",
              "\n",
              "  .colab-df-spinner {\n",
              "    border: 2px solid var(--fill-color);\n",
              "    border-color: transparent;\n",
              "    border-bottom-color: var(--fill-color);\n",
              "    animation:\n",
              "      spin 1s steps(1) infinite;\n",
              "  }\n",
              "\n",
              "  @keyframes spin {\n",
              "    0% {\n",
              "      border-color: transparent;\n",
              "      border-bottom-color: var(--fill-color);\n",
              "      border-left-color: var(--fill-color);\n",
              "    }\n",
              "    20% {\n",
              "      border-color: transparent;\n",
              "      border-left-color: var(--fill-color);\n",
              "      border-top-color: var(--fill-color);\n",
              "    }\n",
              "    30% {\n",
              "      border-color: transparent;\n",
              "      border-left-color: var(--fill-color);\n",
              "      border-top-color: var(--fill-color);\n",
              "      border-right-color: var(--fill-color);\n",
              "    }\n",
              "    40% {\n",
              "      border-color: transparent;\n",
              "      border-right-color: var(--fill-color);\n",
              "      border-top-color: var(--fill-color);\n",
              "    }\n",
              "    60% {\n",
              "      border-color: transparent;\n",
              "      border-right-color: var(--fill-color);\n",
              "    }\n",
              "    80% {\n",
              "      border-color: transparent;\n",
              "      border-right-color: var(--fill-color);\n",
              "      border-bottom-color: var(--fill-color);\n",
              "    }\n",
              "    90% {\n",
              "      border-color: transparent;\n",
              "      border-bottom-color: var(--fill-color);\n",
              "    }\n",
              "  }\n",
              "</style>\n",
              "\n",
              "  <script>\n",
              "    async function quickchart(key) {\n",
              "      const quickchartButtonEl =\n",
              "        document.querySelector('#' + key + ' button');\n",
              "      quickchartButtonEl.disabled = true;  // To prevent multiple clicks.\n",
              "      quickchartButtonEl.classList.add('colab-df-spinner');\n",
              "      try {\n",
              "        const charts = await google.colab.kernel.invokeFunction(\n",
              "            'suggestCharts', [key], {});\n",
              "      } catch (error) {\n",
              "        console.error('Error during call to suggestCharts:', error);\n",
              "      }\n",
              "      quickchartButtonEl.classList.remove('colab-df-spinner');\n",
              "      quickchartButtonEl.classList.add('colab-df-quickchart-complete');\n",
              "    }\n",
              "    (() => {\n",
              "      let quickchartButtonEl =\n",
              "        document.querySelector('#df-a0b176b1-e37d-44e8-a84c-0c58efbf0f36 button');\n",
              "      quickchartButtonEl.style.display =\n",
              "        google.colab.kernel.accessAllowed ? 'block' : 'none';\n",
              "    })();\n",
              "  </script>\n",
              "</div>\n",
              "\n",
              "  <div id=\"id_4e12f9a4-6f51-4db1-a827-02942747bab6\">\n",
              "    <style>\n",
              "      .colab-df-generate {\n",
              "        background-color: #E8F0FE;\n",
              "        border: none;\n",
              "        border-radius: 50%;\n",
              "        cursor: pointer;\n",
              "        display: none;\n",
              "        fill: #1967D2;\n",
              "        height: 32px;\n",
              "        padding: 0 0 0 0;\n",
              "        width: 32px;\n",
              "      }\n",
              "\n",
              "      .colab-df-generate:hover {\n",
              "        background-color: #E2EBFA;\n",
              "        box-shadow: 0px 1px 2px rgba(60, 64, 67, 0.3), 0px 1px 3px 1px rgba(60, 64, 67, 0.15);\n",
              "        fill: #174EA6;\n",
              "      }\n",
              "\n",
              "      [theme=dark] .colab-df-generate {\n",
              "        background-color: #3B4455;\n",
              "        fill: #D2E3FC;\n",
              "      }\n",
              "\n",
              "      [theme=dark] .colab-df-generate:hover {\n",
              "        background-color: #434B5C;\n",
              "        box-shadow: 0px 1px 3px 1px rgba(0, 0, 0, 0.15);\n",
              "        filter: drop-shadow(0px 1px 2px rgba(0, 0, 0, 0.3));\n",
              "        fill: #FFFFFF;\n",
              "      }\n",
              "    </style>\n",
              "    <button class=\"colab-df-generate\" onclick=\"generateWithVariable('dataset')\"\n",
              "            title=\"Generate code using this dataframe.\"\n",
              "            style=\"display:none;\">\n",
              "\n",
              "  <svg xmlns=\"http://www.w3.org/2000/svg\" height=\"24px\"viewBox=\"0 0 24 24\"\n",
              "       width=\"24px\">\n",
              "    <path d=\"M7,19H8.4L18.45,9,17,7.55,7,17.6ZM5,21V16.75L18.45,3.32a2,2,0,0,1,2.83,0l1.4,1.43a1.91,1.91,0,0,1,.58,1.4,1.91,1.91,0,0,1-.58,1.4L9.25,21ZM18.45,9,17,7.55Zm-12,3A5.31,5.31,0,0,0,4.9,8.1,5.31,5.31,0,0,0,1,6.5,5.31,5.31,0,0,0,4.9,4.9,5.31,5.31,0,0,0,6.5,1,5.31,5.31,0,0,0,8.1,4.9,5.31,5.31,0,0,0,12,6.5,5.46,5.46,0,0,0,6.5,12Z\"/>\n",
              "  </svg>\n",
              "    </button>\n",
              "    <script>\n",
              "      (() => {\n",
              "      const buttonEl =\n",
              "        document.querySelector('#id_4e12f9a4-6f51-4db1-a827-02942747bab6 button.colab-df-generate');\n",
              "      buttonEl.style.display =\n",
              "        google.colab.kernel.accessAllowed ? 'block' : 'none';\n",
              "\n",
              "      buttonEl.onclick = () => {\n",
              "        google.colab.notebook.generateWithVariable('dataset');\n",
              "      }\n",
              "      })();\n",
              "    </script>\n",
              "  </div>\n",
              "\n",
              "    </div>\n",
              "  </div>\n"
            ],
            "application/vnd.google.colaboratory.intrinsic+json": {
              "type": "dataframe",
              "variable_name": "dataset",
              "summary": "{\n  \"name\": \"dataset\",\n  \"rows\": 17307,\n  \"fields\": [\n    {\n      \"column\": \"full_text\",\n      \"properties\": {\n        \"dtype\": \"string\",\n        \"num_unique_values\": 17307,\n        \"samples\": [\n          \"People tend to use there cars so much, they basically can't live or get through the day with out their car. We use the car to go every where rather it's to the grocery store , work or just to go hang out with friends and family! Just traveling in general. Well imagine if we limited the usage of cars in our community! I strongly believe that doing this would have many advantages to our community for many reasons like it will make people less stressful all the time, there would be less accidents and it would definitly be better for the environment.\\n\\nOMG I ran out of gas or OH my i have to take my car to the shop to get it fixed is usually the two main things you hear people stay when the word \\\"car\\\" comes up. Having a car comes with alot of stress because it of expenses and having to take of its every need and usually when someone is stressed they are not the best person you wanna have a conversation with. I think that if we limit the usage of cars a lot of people in the community will be alot happier. According to the article\\n\\n\\\"Car-free Cities\\\"\\n\\nby\\n\\nElisabeth Rosenthal in source 2 a lady name Heidrun Walter says \\\" When i had a car i was always tense. I'm much happier this way.\\\" and i think that is a perfect example of limited car usauage can make a person happier.\\n\\nIn addition, I feel that if that if we limit the car usage in our community it will make this community a much safer environment. We hear and see about many car accidents in our country and community and cars can be very very dangerous. People often get injuried and/or die in car recks to. So limitting the car usage in the communitry will keep people more safe and most importantly alive . Kids will be able to run aroumd the neighborhood and play with their friends and also cross the street safely without the disruption of a car coming and stopping them from what they are doing\\u00a0 because they do not wants to get hurt from the car coming because they do not know who is driving the car.\\n\\nLast but not least limiting the use of car usage in the community because it would definitly be better for the environment. In science class we often talk about how cars polute the air and just mess up the waehter in the car and me my self i can also feel the car changing the more i see cars more cars in the streets. I think that it makes the days hotter and i also think that it makes the winters come around earlier and it makes it alot more colder. I live in the Sunshine florida and in the south. So all year round its usually hot extremly hot but has i realize more people are driving around the winers seem ALOT more cold then it usually is and the cold last for longer periods of time.\\n\\nIn conclusion, I belive that if we limit the car usuage in our community it will make it a better place for many reasons. Like it will make people less stressful and\\u00a0 be happier, there will be less accidents on the road and it will also help the environment a lot. \\u00a0\\u00a0\\u00a0\\u00a0\\u00a0\\u00a0\\u00a0\\u00a0\\u00a0\\u00a0\\u00a0\\u00a0\\u00a0 \\u00a0\\u00a0\\u00a0\\u00a0\\u00a0    \",\n          \"Imagine being a top scientist at NASA and Viking 1 spacecraft \\\"spotted the shadowy likeness of a human face.\\\" A lot of people thought of alien life possibility, but others thought it to be just a natural landform. What would your thoughts be about the image? The face of Mars is a natural landform. There's similar landforms on Earth, high pixel photos taken, and not enough reliable information to support the alien life theory.\\n\\nTo begin, there are similar landforms on Earth to the one on Mars. As stated in the text, \\\"what the picture actually shows is the Martian equivalent of a butte or mesa- landforms common around the American West.\\\" Also stated in the text is Garvin giving his opinion, \\\"it reminds me most of Middle Butte in the Snake River Plain of Idaho.\\\"\\n\\nAnother issue with the alien life theory is the fact that NASA has high quality cameras. Quoting the text, \\\"each pixel in the 2001 image spans 1.56 meters, compared to 43 meters per pixel in the best 1976 Viking photo.\\\" In the result of having high quality pictures you could see small details clearly. As stated in the article Garvin said, \\\" 'so, if there were objects in this picture like airplanes on the ground or Egyptian-style pyramids or even small shacks, you could see what they were!' \\\" Concluding that statement nothing other than the landform that had resembled a face was seen on Mars.\\n\\nFinally, there wasn't enough evidence to support the claim of alien life on Mars. The first pictures were blurry and had haze or cloud coverage. This theory was more popular on the online world than in the science world. As stated in the text, \\\"the 'Face on Mars' has since become a pop icon. It has starred in a Hollywood film, appeared in books, magazines, radio talk shows-even haunted grocery store checkout lines for 25 years!\\\" This proves that this might be just for publicity and attention. There has been many conspiracy theorists.\\n\\nUltimately, the face on Mars is just a natural landform. There's similar landforms on Earth, high pixel photos taken, and not enough reliable information to support the alien life theory.       \",\n          \"The face of Mars could not be created by aliens. It is a land form created by the conditions of mars and looks like a face only by coincidence. Mesa's are common in this area of Mars and there are many others like this one just without the same shadows which makes the appearance of a human's face.\\n\\nOut of so many different land forms in Cydonia why should this be any different. In the second paragrapgh of the article, it stated that the Cydonia region is known for its buttes and mesas. The face of Mars is just another mesa no different that any other one except for its unique shadows. It is strange to see a formation on an supposedly uninhabited planet that depicts a \\\"human\\\" face. Espescially when no human has ever set foot on the planet of Mars before. But at the same time, that is all the more reason to believe that this is nothing more that a weird coincidence since no person has ever been there.\\n\\nTo conspiracy theorists dismay, this strange landform is nothing more than martian butte or mesa and a weird coincidence. It is an interesting formation that stumped and puzzled scientests all over the world. But we now know the formation is not anything that will reveal alien lifeforms or alien activity.        \"\n        ],\n        \"semantic_type\": \"\",\n        \"description\": \"\"\n      }\n    },\n    {\n      \"column\": \"score\",\n      \"properties\": {\n        \"dtype\": \"number\",\n        \"std\": 1,\n        \"min\": 0,\n        \"max\": 5,\n        \"num_unique_values\": 6,\n        \"samples\": [\n          2,\n          3,\n          5\n        ],\n        \"semantic_type\": \"\",\n        \"description\": \"\"\n      }\n    },\n    {\n      \"column\": \"tokens\",\n      \"properties\": {\n        \"dtype\": \"object\",\n        \"semantic_type\": \"\",\n        \"description\": \"\"\n      }\n    },\n    {\n      \"column\": \"bert_vectors\",\n      \"properties\": {\n        \"dtype\": \"object\",\n        \"semantic_type\": \"\",\n        \"description\": \"\"\n      }\n    }\n  ]\n}"
            }
          },
          "metadata": {},
          "execution_count": 37
        }
      ]
    },
    {
      "cell_type": "code",
      "source": [
        "bert_embeddings = np.vstack(dataset['bert_vectors'].values)"
      ],
      "metadata": {
        "id": "mDGm2fD_vrPd"
      },
      "id": "mDGm2fD_vrPd",
      "execution_count": null,
      "outputs": []
    },
    {
      "cell_type": "code",
      "source": [
        "len(bert_embeddings[0])"
      ],
      "metadata": {
        "colab": {
          "base_uri": "https://localhost:8080/"
        },
        "id": "Zxpfzbs2v0jf",
        "outputId": "40e32f16-028d-4cea-e641-785826aa7b68"
      },
      "id": "Zxpfzbs2v0jf",
      "execution_count": null,
      "outputs": [
        {
          "output_type": "execute_result",
          "data": {
            "text/plain": [
              "768"
            ]
          },
          "metadata": {},
          "execution_count": 41
        }
      ]
    },
    {
      "cell_type": "code",
      "source": [
        "X = pd.DataFrame(bert_embeddings)\n",
        "y = dataset['score']\n",
        "train_xgb(X, y)\n"
      ],
      "metadata": {
        "colab": {
          "base_uri": "https://localhost:8080/",
          "height": 543
        },
        "id": "tZPgXm_xv2Bx",
        "outputId": "0cc41745-bf69-4409-f99d-921617e5d0ba"
      },
      "id": "tZPgXm_xv2Bx",
      "execution_count": null,
      "outputs": [
        {
          "output_type": "stream",
          "name": "stdout",
          "text": [
            "Accuracy: 0.5271519352975159\n"
          ]
        },
        {
          "output_type": "display_data",
          "data": {
            "text/plain": [
              "<Figure size 640x480 with 2 Axes>"
            ],
            "image/png": "[encoded data removed]"
          },
          "metadata": {}
        },
        {
          "output_type": "stream",
          "name": "stdout",
          "text": [
            "Precision: 0.52\n",
            "Recall: 0.53\n",
            "Quadratic Weighted Kappa (QWK): 0.64\n"
          ]
        }
      ]
    },
    {
      "cell_type": "markdown",
      "source": [
        "## TF-IDF:"
      ],
      "metadata": {
        "id": "vPPly5rAIdBH"
      },
      "id": "vPPly5rAIdBH"
    },
    {
      "cell_type": "code",
      "source": [
        "# Generate TF-IDF embeddings for the cleaned_text column\n",
        "tfidf_vectorizer = TfidfVectorizer(stop_words='english', max_features=2000)\n",
        "tfidf_embeddings = tfidf_vectorizer.fit_transform(dataset['clean_text'])\n"
      ],
      "metadata": {
        "id": "cacxqSU7IhqU"
      },
      "id": "cacxqSU7IhqU",
      "execution_count": null,
      "outputs": []
    },
    {
      "cell_type": "code",
      "source": [
        "# Use the sparse matrix directly\n",
        "X = tfidf_embeddings\n",
        "y = dataset['score']\n",
        "train_xgb(X, y)"
      ],
      "metadata": {
        "colab": {
          "base_uri": "https://localhost:8080/",
          "height": 541
        },
        "id": "XGO1ntXJIoBZ",
        "outputId": "f1562deb-a20d-44f6-fcef-223224df1421"
      },
      "id": "XGO1ntXJIoBZ",
      "execution_count": null,
      "outputs": [
        {
          "output_type": "stream",
          "name": "stdout",
          "text": [
            "Accuracy: 0.5407279029462738\n"
          ]
        },
        {
          "output_type": "display_data",
          "data": {
            "text/plain": [
              "<Figure size 640x480 with 2 Axes>"
            ],
            "image/png": "[encoded data removed]"
          },
          "metadata": {}
        },
        {
          "output_type": "stream",
          "name": "stdout",
          "text": [
            "Precision: 0.53\n",
            "Recall: 0.54\n",
            "Quadratic Weighted Kappa (QWK): 0.68\n"
          ]
        }
      ]
    },
    {
      "cell_type": "code",
      "source": [
        "# Create a dictionary and corpus for LDA\n",
        "dictionary = corpora.Dictionary(dataset['tokens'])\n",
        "corpus = [dictionary.doc2bow(text) for text in dataset['tokens']]\n",
        "\n",
        "# Function to train LDA model and return QWK score\n",
        "def objective(trial):\n",
        "    num_topics = trial.suggest_int('num_topics', 50, 300)\n",
        "    passes = trial.suggest_int('passes', 10, 30)\n",
        "    iterations = trial.suggest_int('iterations', 50, 300)\n",
        "    alpha = trial.suggest_categorical('alpha', ['symmetric', 'asymmetric', 'auto'])\n",
        "    eta = trial.suggest_categorical('eta', ['symmetric', 'auto'])\n",
        "    chunksize = trial.suggest_int('chunksize', 500, 5000)\n",
        "\n",
        "    lda_model = LdaModel(\n",
        "        corpus=corpus,\n",
        "        num_topics=num_topics,\n",
        "        id2word=dictionary,\n",
        "        passes=passes,\n",
        "        iterations=iterations,\n",
        "        alpha=alpha,\n",
        "        eta=eta,\n",
        "        chunksize=chunksize,\n",
        "        random_state=42\n",
        "    )\n",
        "\n",
        "    # Generate document-topic vectors\n",
        "    topic_vectors = np.array([lda_model.get_document_topics(doc, minimum_probability=0) for doc in corpus])\n",
        "    topic_vectors = np.array([[prob for _, prob in doc] for doc in topic_vectors])\n",
        "\n",
        "    # Train-test split\n",
        "    X_train, X_test, y_train, y_test = train_test_split(topic_vectors, dataset['score'], test_size=0.2, random_state=42)\n",
        "\n",
        "    # Train a classifier on the LDA topic vectors using XGBoost\n",
        "    dtrain = xgb.DMatrix(X_train, label=y_train)\n",
        "    dtest = xgb.DMatrix(X_test, label=y_test)\n",
        "\n",
        "    param = {\n",
        "        'objective': 'multi:softmax',\n",
        "        'num_class': len(set(dataset['score'])),\n",
        "        'eval_metric': 'mlogloss',\n",
        "        'tree_method': 'gpu_hist',  # Use GPU for training\n",
        "        'max_depth': trial.suggest_int('max_depth', 3, 10),\n",
        "        'learning_rate': trial.suggest_float('learning_rate', 0.01, 0.1, log=True),\n",
        "        'subsample': trial.suggest_float('subsample', 0.5, 1.0),\n",
        "        'colsample_bytree': trial.suggest_float('colsample_bytree', 0.5, 1.0),\n",
        "        'reg_lambda': trial.suggest_float('reg_lambda', 1e-3, 10.0, log=True),\n",
        "        'reg_alpha': trial.suggest_float('reg_alpha', 1e-3, 10.0, log=True)\n",
        "    }\n",
        "\n",
        "    bst = xgb.train(param, dtrain, num_boost_round=100)\n",
        "\n",
        "    # Predict on the test set\n",
        "    y_pred = bst.predict(dtest)\n",
        "\n",
        "    # Calculate QWK score\n",
        "    qwk_score = cohen_kappa_score(y_test, y_pred, weights='quadratic')\n",
        "\n",
        "    return qwk_score\n",
        "\n",
        "# Create a study object and optimize the objective function\n",
        "study = optuna.create_study(direction='maximize')\n",
        "study.optimize(objective, n_trials=50)\n",
        "\n",
        "# Get the best hyperparameters\n",
        "best_params = study.best_params\n",
        "print(f\"Best hyperparameters: {best_params}\")\n",
        "\n",
        "# Train the final LDA model with the best hyperparameters\n",
        "lda_model = LdaModel(\n",
        "    corpus=corpus,\n",
        "    num_topics=best_params['num_topics'],\n",
        "    id2word=dictionary,\n",
        "    passes=best_params['passes'],\n",
        "    iterations=best_params['iterations'],\n",
        "    alpha=best_params['alpha'],\n",
        "    eta=best_params['eta'],\n",
        "    chunksize=best_params['chunksize'],\n",
        "    random_state=42\n",
        ")\n",
        "\n",
        "# Function to get topic distribution for a document\n",
        "def get_topic_distribution(lda_model, corpus, num_topics):\n",
        "    topics = [lda_model.get_document_topics(doc, minimum_probability=0) for doc in corpus]\n",
        "    topic_matrix = np.zeros((len(corpus), num_topics))\n",
        "    for i, topic_dist in enumerate(topics):\n",
        "        for topic, prob in topic_dist:\n",
        "            topic_matrix[i][topic] = prob\n",
        "    return topic_matrix\n",
        "\n",
        "# Generate document-topic vectors\n",
        "num_topics = best_params['num_topics']\n",
        "topic_vectors = get_topic_distribution(lda_model, corpus, num_topics)\n",
        "dataset['lda_vectors'] = list(topic_vectors)\n",
        "\n",
        "# Ensure all document vectors are valid (remove any NaN vectors)\n",
        "dataset = dataset.dropna(subset=['lda_vectors'])\n"
      ],
      "metadata": {
        "id": "MTetMZXlJhq3",
        "colab": {
          "base_uri": "https://localhost:8080/"
        },
        "outputId": "8f15b4c0-8110-42f4-d13a-46c3f2273eda"
      },
      "id": "MTetMZXlJhq3",
      "execution_count": null,
      "outputs": [
        {
          "output_type": "stream",
          "name": "stderr",
          "text": [
            "[I 2024-07-01 05:59:36,063] A new study created in memory with name: no-name-dbafd3d2-1e37-4116-888d-107dfda466b1\n"
          ]
        }
      ]
    },
    {
      "cell_type": "code",
      "source": [],
      "metadata": {
        "id": "ORmap_6saBOM"
      },
      "id": "ORmap_6saBOM",
      "execution_count": null,
      "outputs": []
    },
    {
      "cell_type": "code",
      "source": [],
      "metadata": {
        "id": "ZGVfATE9YIvm"
      },
      "id": "ZGVfATE9YIvm",
      "execution_count": null,
      "outputs": []
    },
    {
      "cell_type": "code",
      "source": [
        "pip install xgboost"
      ],
      "metadata": {
        "colab": {
          "base_uri": "https://localhost:8080/"
        },
        "id": "VMKu0ZvBYI65",
        "outputId": "c5647b78-1e6c-4a78-cddd-a2fc6f11387f"
      },
      "id": "VMKu0ZvBYI65",
      "execution_count": null,
      "outputs": [
        {
          "output_type": "stream",
          "name": "stdout",
          "text": [
            "Collecting xgboost\n",
            "  Downloading xgboost-2.1.0-py3-none-manylinux_2_28_x86_64.whl (153.9 MB)\n",
            "\u001b[2K     \u001b[90m━━━━━━━━━━━━━━━━━━━━━━━━━━━━━━━━━━━━━━━━\u001b[0m \u001b[32m153.9/153.9 MB\u001b[0m \u001b[31m5.7 MB/s\u001b[0m eta \u001b[36m0:00:00\u001b[0m\n",
            "\u001b[?25hRequirement already satisfied: numpy in /usr/local/lib/python3.10/dist-packages (from xgboost) (1.25.2)\n",
            "Collecting nvidia-nccl-cu12 (from xgboost)\n",
            "  Downloading nvidia_nccl_cu12-2.22.3-py3-none-manylinux2014_x86_64.whl (190.9 MB)\n",
            "\u001b[2K     \u001b[90m━━━━━━━━━━━━━━━━━━━━━━━━━━━━━━━━━━━━━━━━\u001b[0m \u001b[32m190.9/190.9 MB\u001b[0m \u001b[31m4.2 MB/s\u001b[0m eta \u001b[36m0:00:00\u001b[0m\n",
            "\u001b[?25hRequirement already satisfied: scipy in /usr/local/lib/python3.10/dist-packages (from xgboost) (1.11.4)\n",
            "Installing collected packages: nvidia-nccl-cu12, xgboost\n",
            "Successfully installed nvidia-nccl-cu12-2.22.3 xgboost-2.1.0\n"
          ]
        }
      ]
    },
    {
      "cell_type": "code",
      "source": [
        "import pandas as pd\n",
        "import gensim\n",
        "import xgboost as xgb\n",
        "import numpy as np\n",
        "import matplotlib.pyplot as plt\n",
        "from gensim.models.ldamodel import LdaModel\n",
        "from gensim import corpora\n",
        "from sklearn.model_selection import train_test_split\n",
        "from sklearn.metrics import accuracy_score, confusion_matrix, precision_score, recall_score, cohen_kappa_score, ConfusionMatrixDisplay\n",
        "from sklearn.feature_extraction.text import TfidfVectorizer\n",
        "import nltk\n",
        "from nltk.corpus import stopwords\n",
        "from nltk.stem import WordNetLemmatizer\n",
        "import re\n",
        "\n",
        "# Download stopwords and lemmatizer\n",
        "nltk.download('stopwords')\n",
        "nltk.download('wordnet')\n",
        "\n",
        "# Load data\n",
        "dataset = pd.read_csv('trains.csv', encoding='latin1')\n",
        "\n",
        "# Explore the dataset\n",
        "print(dataset.head())\n",
        "print(dataset.info())\n",
        "\n",
        "# Text Preprocessing\n",
        "stop_words = set(stopwords.words('english'))\n",
        "lemmatizer = WordNetLemmatizer()\n",
        "\n",
        "def preprocess_text(text):\n",
        "    # Remove non-alphabetical characters and tokenize the text\n",
        "    text = re.sub(r'[^a-zA-Z\\s]', '', text)\n",
        "    tokens = gensim.utils.simple_preprocess(text)\n",
        "    tokens = [lemmatizer.lemmatize(token) for token in tokens if token not in stop_words]\n",
        "    return tokens\n",
        "\n",
        "dataset['tokens'] = dataset['full_text'].apply(preprocess_text)\n",
        "\n",
        "# Convert scores to zero-indexed categorical labels (assuming scores are integers starting from 1)\n",
        "dataset['score'] = dataset['score'] - 1\n",
        "\n",
        "# Create a dictionary and corpus for LDA\n",
        "dictionary = corpora.Dictionary(dataset['tokens'])\n",
        "corpus = [dictionary.doc2bow(text) for text in dataset['tokens']]\n",
        "\n",
        "# Train LDA model with more topics and passes\n",
        "num_topics = 50  # Increase the number of topics\n",
        "lda_model = LdaModel(corpus, num_topics=num_topics, id2word=dictionary, passes=10)  # Increase the number of passes\n",
        "\n",
        "\n",
        "\n",
        "\n",
        "# Function to get topic distribution for a document\n",
        "def get_topic_distribution(lda_model, corpus, num_topics):\n",
        "    topics = lda_model.get_document_topics(corpus, minimum_probability=0)\n",
        "    topic_matrix = np.zeros((len(corpus), num_topics))\n",
        "    for i, topic_dist in enumerate(topics):\n",
        "        for topic, prob in topic_dist:\n",
        "            topic_matrix[i][topic] = prob\n",
        "    return topic_matrix\n",
        "\n",
        "# Generate document-topic vectors\n",
        "topic_vectors = get_topic_distribution(lda_model, corpus, num_topics)\n",
        "dataset['lda_vectors'] = list(topic_vectors)\n",
        "\n",
        "# Ensure all document vectors are valid (remove any NaN vectors)\n",
        "dataset = dataset.dropna(subset=['lda_vectors'])\n",
        "\n",
        "# TF-IDF Vectorizer with bigrams\n",
        "tfidf = TfidfVectorizer(stop_words=list(stop_words), ngram_range=(1, 2))\n",
        "tfidf_vectors = tfidf.fit_transform(dataset['full_text'])\n",
        "\n",
        "# Combine LDA and TF-IDF vectors\n",
        "combined_vectors = np.hstack([list(dataset['lda_vectors']), tfidf_vectors.toarray()])\n",
        "\n",
        "X = combined_vectors\n",
        "y = dataset['score']\n",
        "\n",
        "# Train-test split\n",
        "X_train, X_test, y_train, y_test = train_test_split(X, y, test_size=0.2, random_state=42)\n",
        "\n"
      ],
      "metadata": {
        "colab": {
          "base_uri": "https://localhost:8080/"
        },
        "id": "g3Caqj6oYJEW",
        "outputId": "630df6d8-a118-4dad-a95c-a8c445137904"
      },
      "id": "g3Caqj6oYJEW",
      "execution_count": null,
      "outputs": [
        {
          "output_type": "stream",
          "name": "stderr",
          "text": [
            "[nltk_data] Downloading package stopwords to /root/nltk_data...\n",
            "[nltk_data]   Unzipping corpora/stopwords.zip.\n",
            "[nltk_data] Downloading package wordnet to /root/nltk_data...\n"
          ]
        },
        {
          "output_type": "stream",
          "name": "stdout",
          "text": [
            "  essay_id                                          full_text  score\n",
            "0  000d118  Many people have car where they live. The thin...      3\n",
            "1  000fe60  I am a scientist at NASA that is discussing th...      3\n",
            "2  001ab80  People always wish they had the same technolog...      4\n",
            "3  001bdc0  We all heard about Venus, the planet without a...      4\n",
            "4  002ba53  Dear, State Senator\\n\\nThis is a letter to arg...      3\n",
            "<class 'pandas.core.frame.DataFrame'>\n",
            "RangeIndex: 17307 entries, 0 to 17306\n",
            "Data columns (total 3 columns):\n",
            " #   Column     Non-Null Count  Dtype \n",
            "---  ------     --------------  ----- \n",
            " 0   essay_id   17307 non-null  object\n",
            " 1   full_text  17307 non-null  object\n",
            " 2   score      17307 non-null  int64 \n",
            "dtypes: int64(1), object(2)\n",
            "memory usage: 405.8+ KB\n",
            "None\n"
          ]
        }
      ]
    },
    {
      "cell_type": "code",
      "source": [
        "# Set the hyperparameters manually with more tuning\n",
        "params = {\n",
        "    'max_depth': 10,\n",
        "    'eta': 0.01,\n",
        "    'objective': 'multi:softmax',\n",
        "    'num_class': len(y.unique()),\n",
        "    'subsample': 0.8,\n",
        "    'colsample_bytree': 0.8,\n",
        "    'min_child_weight': 3,\n",
        "    'lambda': 1.5,\n",
        "    'alpha': 0.5,\n",
        "    'n_estimators': 500  # Increase number of boosting rounds\n",
        "}\n",
        "\n",
        "# Train the model using GridSearchCV\n",
        "from sklearn.model_selection import GridSearchCV\n",
        "\n",
        "xgb_model = xgb.XGBClassifier(objective='multi:softmax', num_class=len(y.unique()), use_label_encoder=False)\n",
        "parameters = {\n",
        "    'max_depth': [6, 8, 10],\n",
        "    'eta': [0.01, 0.05, 0.1],\n",
        "    'subsample': [0.7, 0.8, 0.9],\n",
        "    'colsample_bytree': [0.7, 0.8, 0.9],\n",
        "    'min_child_weight': [1, 3, 5],\n",
        "    'lambda': [1, 1.5, 2],\n",
        "    'alpha': [0, 0.5, 1],\n",
        "    'n_estimators': [100, 200, 500]\n",
        "}\n",
        "\n",
        "clf = GridSearchCV(xgb_model, parameters, scoring='accuracy', n_jobs=-1, cv=3)\n",
        "clf.fit(X_train, y_train)\n",
        "\n",
        "print(\"Best parameters:\", clf.best_params_)\n",
        "\n",
        "# Predict\n",
        "y_pred = clf.predict(X_test)\n",
        "\n",
        "# Evaluate\n",
        "accuracy = accuracy_score(y_test, y_pred)\n",
        "precision = precision_score(y_test, y_pred, average='weighted')\n",
        "recall = recall_score(y_test, y_pred, average='weighted')\n",
        "qwk = cohen_kappa_score(y_test, y_pred, weights='quadratic')\n",
        "\n",
        "# Create confusion matrix\n",
        "cm = confusion_matrix(y_test, y_pred)\n",
        "disp = ConfusionMatrixDisplay(confusion_matrix=cm, display_labels=np.arange(len(dataset['score'].unique())))\n",
        "\n",
        "# Plot confusion matrix\n",
        "disp.plot(cmap=plt.cm.Blues)\n",
        "plt.title('Confusion Matrix')\n",
        "plt.show()\n",
        "\n",
        "print(f'Accuracy: {accuracy:.2f}')\n",
        "print(f'Precision: {precision:.2f}')\n",
        "print(f'Recall: {recall:.2f}')\n",
        "print(f'Quadratic Weighted Kappa (QWK): {qwk:.2f}')"
      ],
      "metadata": {
        "id": "QKtV1JjUYcY7"
      },
      "id": "QKtV1JjUYcY7",
      "execution_count": null,
      "outputs": []
    }
  ],
  "metadata": {
    "kernelspec": {
      "display_name": "Python 3",
      "name": "python3"
    },
    "language_info": {
      "codemirror_mode": {
        "name": "ipython",
        "version": 3
      },
      "file_extension": ".py",
      "mimetype": "text/x-python",
      "name": "python",
      "nbconvert_exporter": "python",
      "pygments_lexer": "ipython3",
      "version": "3.11.5"
    },
    "colab": {
      "provenance": [],
      "gpuType": "V28"
    },
    "accelerator": "TPU",
    "widgets": {
      "application/vnd.jupyter.widget-state+json": {
        "a82620da79b249d0b0ac8a044f3f28db": {
          "model_module": "@jupyter-widgets/controls",
          "model_name": "HBoxModel",
          "model_module_version": "1.5.0",
          "state": {
            "_dom_classes": [],
            "_model_module": "@jupyter-widgets/controls",
            "_model_module_version": "1.5.0",
            "_model_name": "HBoxModel",
            "_view_count": null,
            "_view_module": "@jupyter-widgets/controls",
            "_view_module_version": "1.5.0",
            "_view_name": "HBoxView",
            "box_style": "",
            "children": [
              "IPY_MODEL_63068263721240038245d2e41d14bb78",
              "IPY_MODEL_dc7cc67b7ddc4f328fa7cd675b95f438",
              "IPY_MODEL_bcd6e1fc96ee4316ae167c11f88ad66f"
            ],
            "layout": "IPY_MODEL_dbf1a1f93d0247a69383ecebc40a51c5"
          }
        },
        "63068263721240038245d2e41d14bb78": {
          "model_module": "@jupyter-widgets/controls",
          "model_name": "HTMLModel",
          "model_module_version": "1.5.0",
          "state": {
            "_dom_classes": [],
            "_model_module": "@jupyter-widgets/controls",
            "_model_module_version": "1.5.0",
            "_model_name": "HTMLModel",
            "_view_count": null,
            "_view_module": "@jupyter-widgets/controls",
            "_view_module_version": "1.5.0",
            "_view_name": "HTMLView",
            "description": "",
            "description_tooltip": null,
            "layout": "IPY_MODEL_6a748eb65d074a6798d8895f3da8d742",
            "placeholder": "​",
            "style": "IPY_MODEL_3d819d0cea574e66a62777c8b3fcf169",
            "value": "model.safetensors: 100%"
          }
        },
        "dc7cc67b7ddc4f328fa7cd675b95f438": {
          "model_module": "@jupyter-widgets/controls",
          "model_name": "FloatProgressModel",
          "model_module_version": "1.5.0",
          "state": {
            "_dom_classes": [],
            "_model_module": "@jupyter-widgets/controls",
            "_model_module_version": "1.5.0",
            "_model_name": "FloatProgressModel",
            "_view_count": null,
            "_view_module": "@jupyter-widgets/controls",
            "_view_module_version": "1.5.0",
            "_view_name": "ProgressView",
            "bar_style": "success",
            "description": "",
            "description_tooltip": null,
            "layout": "IPY_MODEL_f0f8f5d24a9b46df9632bb452b650e7a",
            "max": 440449768,
            "min": 0,
            "orientation": "horizontal",
            "style": "IPY_MODEL_42438c09966e496da5a5b3b561003745",
            "value": 440449768
          }
        },
        "bcd6e1fc96ee4316ae167c11f88ad66f": {
          "model_module": "@jupyter-widgets/controls",
          "model_name": "HTMLModel",
          "model_module_version": "1.5.0",
          "state": {
            "_dom_classes": [],
            "_model_module": "@jupyter-widgets/controls",
            "_model_module_version": "1.5.0",
            "_model_name": "HTMLModel",
            "_view_count": null,
            "_view_module": "@jupyter-widgets/controls",
            "_view_module_version": "1.5.0",
            "_view_name": "HTMLView",
            "description": "",
            "description_tooltip": null,
            "layout": "IPY_MODEL_eaeaed4bc0d7459eb7c07da4b7629295",
            "placeholder": "​",
            "style": "IPY_MODEL_60d49dfb03d44f80b3dbf914c43ccb03",
            "value": " 440M/440M [00:08&lt;00:00, 114MB/s]"
          }
        },
        "dbf1a1f93d0247a69383ecebc40a51c5": {
          "model_module": "@jupyter-widgets/base",
          "model_name": "LayoutModel",
          "model_module_version": "1.2.0",
          "state": {
            "_model_module": "@jupyter-widgets/base",
            "_model_module_version": "1.2.0",
            "_model_name": "LayoutModel",
            "_view_count": null,
            "_view_module": "@jupyter-widgets/base",
            "_view_module_version": "1.2.0",
            "_view_name": "LayoutView",
            "align_content": null,
            "align_items": null,
            "align_self": null,
            "border": null,
            "bottom": null,
            "display": null,
            "flex": null,
            "flex_flow": null,
            "grid_area": null,
            "grid_auto_columns": null,
            "grid_auto_flow": null,
            "grid_auto_rows": null,
            "grid_column": null,
            "grid_gap": null,
            "grid_row": null,
            "grid_template_areas": null,
            "grid_template_columns": null,
            "grid_template_rows": null,
            "height": null,
            "justify_content": null,
            "justify_items": null,
            "left": null,
            "margin": null,
            "max_height": null,
            "max_width": null,
            "min_height": null,
            "min_width": null,
            "object_fit": null,
            "object_position": null,
            "order": null,
            "overflow": null,
            "overflow_x": null,
            "overflow_y": null,
            "padding": null,
            "right": null,
            "top": null,
            "visibility": null,
            "width": null
          }
        },
        "6a748eb65d074a6798d8895f3da8d742": {
          "model_module": "@jupyter-widgets/base",
          "model_name": "LayoutModel",
          "model_module_version": "1.2.0",
          "state": {
            "_model_module": "@jupyter-widgets/base",
            "_model_module_version": "1.2.0",
            "_model_name": "LayoutModel",
            "_view_count": null,
            "_view_module": "@jupyter-widgets/base",
            "_view_module_version": "1.2.0",
            "_view_name": "LayoutView",
            "align_content": null,
            "align_items": null,
            "align_self": null,
            "border": null,
            "bottom": null,
            "display": null,
            "flex": null,
            "flex_flow": null,
            "grid_area": null,
            "grid_auto_columns": null,
            "grid_auto_flow": null,
            "grid_auto_rows": null,
            "grid_column": null,
            "grid_gap": null,
            "grid_row": null,
            "grid_template_areas": null,
            "grid_template_columns": null,
            "grid_template_rows": null,
            "height": null,
            "justify_content": null,
            "justify_items": null,
            "left": null,
            "margin": null,
            "max_height": null,
            "max_width": null,
            "min_height": null,
            "min_width": null,
            "object_fit": null,
            "object_position": null,
            "order": null,
            "overflow": null,
            "overflow_x": null,
            "overflow_y": null,
            "padding": null,
            "right": null,
            "top": null,
            "visibility": null,
            "width": null
          }
        },
        "3d819d0cea574e66a62777c8b3fcf169": {
          "model_module": "@jupyter-widgets/controls",
          "model_name": "DescriptionStyleModel",
          "model_module_version": "1.5.0",
          "state": {
            "_model_module": "@jupyter-widgets/controls",
            "_model_module_version": "1.5.0",
            "_model_name": "DescriptionStyleModel",
            "_view_count": null,
            "_view_module": "@jupyter-widgets/base",
            "_view_module_version": "1.2.0",
            "_view_name": "StyleView",
            "description_width": ""
          }
        },
        "f0f8f5d24a9b46df9632bb452b650e7a": {
          "model_module": "@jupyter-widgets/base",
          "model_name": "LayoutModel",
          "model_module_version": "1.2.0",
          "state": {
            "_model_module": "@jupyter-widgets/base",
            "_model_module_version": "1.2.0",
            "_model_name": "LayoutModel",
            "_view_count": null,
            "_view_module": "@jupyter-widgets/base",
            "_view_module_version": "1.2.0",
            "_view_name": "LayoutView",
            "align_content": null,
            "align_items": null,
            "align_self": null,
            "border": null,
            "bottom": null,
            "display": null,
            "flex": null,
            "flex_flow": null,
            "grid_area": null,
            "grid_auto_columns": null,
            "grid_auto_flow": null,
            "grid_auto_rows": null,
            "grid_column": null,
            "grid_gap": null,
            "grid_row": null,
            "grid_template_areas": null,
            "grid_template_columns": null,
            "grid_template_rows": null,
            "height": null,
            "justify_content": null,
            "justify_items": null,
            "left": null,
            "margin": null,
            "max_height": null,
            "max_width": null,
            "min_height": null,
            "min_width": null,
            "object_fit": null,
            "object_position": null,
            "order": null,
            "overflow": null,
            "overflow_x": null,
            "overflow_y": null,
            "padding": null,
            "right": null,
            "top": null,
            "visibility": null,
            "width": null
          }
        },
        "42438c09966e496da5a5b3b561003745": {
          "model_module": "@jupyter-widgets/controls",
          "model_name": "ProgressStyleModel",
          "model_module_version": "1.5.0",
          "state": {
            "_model_module": "@jupyter-widgets/controls",
            "_model_module_version": "1.5.0",
            "_model_name": "ProgressStyleModel",
            "_view_count": null,
            "_view_module": "@jupyter-widgets/base",
            "_view_module_version": "1.2.0",
            "_view_name": "StyleView",
            "bar_color": null,
            "description_width": ""
          }
        },
        "eaeaed4bc0d7459eb7c07da4b7629295": {
          "model_module": "@jupyter-widgets/base",
          "model_name": "LayoutModel",
          "model_module_version": "1.2.0",
          "state": {
            "_model_module": "@jupyter-widgets/base",
            "_model_module_version": "1.2.0",
            "_model_name": "LayoutModel",
            "_view_count": null,
            "_view_module": "@jupyter-widgets/base",
            "_view_module_version": "1.2.0",
            "_view_name": "LayoutView",
            "align_content": null,
            "align_items": null,
            "align_self": null,
            "border": null,
            "bottom": null,
            "display": null,
            "flex": null,
            "flex_flow": null,
            "grid_area": null,
            "grid_auto_columns": null,
            "grid_auto_flow": null,
            "grid_auto_rows": null,
            "grid_column": null,
            "grid_gap": null,
            "grid_row": null,
            "grid_template_areas": null,
            "grid_template_columns": null,
            "grid_template_rows": null,
            "height": null,
            "justify_content": null,
            "justify_items": null,
            "left": null,
            "margin": null,
            "max_height": null,
            "max_width": null,
            "min_height": null,
            "min_width": null,
            "object_fit": null,
            "object_position": null,
            "order": null,
            "overflow": null,
            "overflow_x": null,
            "overflow_y": null,
            "padding": null,
            "right": null,
            "top": null,
            "visibility": null,
            "width": null
          }
        },
        "60d49dfb03d44f80b3dbf914c43ccb03": {
          "model_module": "@jupyter-widgets/controls",
          "model_name": "DescriptionStyleModel",
          "model_module_version": "1.5.0",
          "state": {
            "_model_module": "@jupyter-widgets/controls",
            "_model_module_version": "1.5.0",
            "_model_name": "DescriptionStyleModel",
            "_view_count": null,
            "_view_module": "@jupyter-widgets/base",
            "_view_module_version": "1.2.0",
            "_view_name": "StyleView",
            "description_width": ""
          }
        }
      }
    }
  },
  "nbformat": 4,
  "nbformat_minor": 5
}