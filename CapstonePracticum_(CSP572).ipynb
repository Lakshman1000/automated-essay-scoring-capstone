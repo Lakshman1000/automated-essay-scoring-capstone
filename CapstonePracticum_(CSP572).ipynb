{
 "cells": [
  {
   "cell_type": "code",
   "execution_count": null,
   "id": "337ca3ef",
   "metadata": {
    "id": "337ca3ef"
   },
   "outputs": [],
   "source": [
    "import pandas as pd\n",
    "import gensim\n",
    "from gensim.models import Doc2Vec\n",
    "from gensim.models.doc2vec import TaggedDocument\n",
    "from sklearn.model_selection import train_test_split\n",
    "from sklearn.metrics import accuracy_score, confusion_matrix, precision_score, recall_score, cohen_kappa_score, ConfusionMatrixDisplay\n",
    "import nltk\n",
    "from nltk.corpus import stopwords\n",
    "import xgboost as xgb\n",
    "import numpy as np\n",
    "import matplotlib.pyplot as plt\n",
    "from gensim.models import Word2Vec\n",
    "from gensim import corpora\n",
    "from gensim.models.ldamodel import LdaModel\n",
    "from sklearn.feature_extraction.text import TfidfVectorizer\n",
    "from textstat.textstat import textstatistics\n",
    "from nltk.tokenize import word_tokenize\n",
    "import torch\n",
    "from transformers import BertTokenizer, BertModel\n",
    "import re\n",
    "import pickle\n",
    "import optuna\n",
    "from sklearn.metrics import cohen_kappa_score"
   ]
  },
  {
   "cell_type": "code",
   "execution_count": null,
   "id": "AMq6GL6eYHdm",
   "metadata": {
    "id": "AMq6GL6eYHdm"
   },
   "outputs": [],
   "source": []
  },
  {
   "cell_type": "code",
   "execution_count": null,
   "id": "dc50afb8",
   "metadata": {
    "colab": {
     "base_uri": "https://localhost:8080/"
    },
    "id": "dc50afb8",
    "outputId": "eeaeb3a1-2020-4da8-b871-8319cde03080"
   },
   "outputs": [],
   "source": [
    "# Download stopwords\n",
    "nltk.download('stopwords')\n",
    "\n",
    "columns_to_read = ['full_text', 'score']\n",
    "\n",
    "# Load data\n",
    "dataset = pd.read_csv('train.csv', usecols=columns_to_read)"
   ]
  },
  {
   "cell_type": "markdown",
   "id": "be8e8c20",
   "metadata": {
    "id": "be8e8c20"
   },
   "source": [
    "# Training XGBoost Algorithm:"
   ]
  },
  {
   "cell_type": "code",
   "execution_count": null,
   "id": "0d048973",
   "metadata": {
    "id": "0d048973"
   },
   "outputs": [],
   "source": [
    "def train_xgb(X, y):\n",
    "\n",
    "    #Data Split\n",
    "    X_train, X_test, y_train, y_test = train_test_split(X, y, test_size=0.2, random_state=42)\n",
    "    # Convert to DMatrix, the data structure used by XGBoost\n",
    "    dtrain = xgb.DMatrix(X_train, label=y_train)\n",
    "    dtest = xgb.DMatrix(X_test, label=y_test)\n",
    "\n",
    "    # Set XGBoost parameters for classification\n",
    "    params = {\n",
    "        'max_depth': 6,\n",
    "        'eta': 0.3,\n",
    "        'objective': 'multi:softmax',  # For classification\n",
    "        'num_class': len(y.unique())  # Number of classes\n",
    "    }\n",
    "    num_rounds = 100\n",
    "\n",
    "    # Train the model\n",
    "    bst = xgb.train(params, dtrain, num_rounds)\n",
    "\n",
    "    # Predict\n",
    "    y_pred = bst.predict(dtest)\n",
    "\n",
    "    # Evaluate\n",
    "    accuracy = accuracy_score(y_test, y_pred)\n",
    "    precision = precision_score(y_test, y_pred, average='weighted')\n",
    "    recall = recall_score(y_test, y_pred, average='weighted')\n",
    "    qwk = cohen_kappa_score(y_test, y_pred, weights='quadratic')\n",
    "    print(f'Accuracy: {accuracy}')\n",
    "\n",
    "    # Create confusion matrix\n",
    "    cm = confusion_matrix(y_test, y_pred)\n",
    "    disp = ConfusionMatrixDisplay(confusion_matrix=cm, display_labels=np.arange(len(dataset['score'].unique())))\n",
    "\n",
    "    # Plot confusion matrix\n",
    "    disp.plot(cmap=plt.cm.Blues)\n",
    "    plt.title('Confusion Matrix')\n",
    "    plt.show()\n",
    "    print(f\"Precision: {precision:.2f}\")\n",
    "    print(f\"Recall: {recall:.2f}\")\n",
    "    print(f\"Quadratic Weighted Kappa (QWK): {qwk:.2f}\")"
   ]
  },
  {
   "cell_type": "markdown",
   "id": "90c11724",
   "metadata": {
    "id": "90c11724"
   },
   "source": [
    "# Preprocessing text:"
   ]
  },
  {
   "cell_type": "code",
   "execution_count": null,
   "id": "d6304c3c",
   "metadata": {
    "id": "d6304c3c"
   },
   "outputs": [],
   "source": [
    "def preprocess_text(text):\n",
    "    tokens = gensim.utils.simple_preprocess(text)\n",
    "    return tokens"
   ]
  },
  {
   "cell_type": "code",
   "execution_count": null,
   "id": "L4J5umiFA7Aw",
   "metadata": {
    "id": "L4J5umiFA7Aw"
   },
   "outputs": [],
   "source": [
    "def clean_text(text):\n",
    "    # Remove non-alphabetical characters\n",
    "    text = re.sub(r'[^a-zA-Z\\s]', '', text)\n",
    "    # Convert to lowercase\n",
    "    text = text.lower()\n",
    "    return text"
   ]
  },
  {
   "cell_type": "code",
   "execution_count": null,
   "id": "d1a948db",
   "metadata": {
    "id": "d1a948db"
   },
   "outputs": [],
   "source": [
    "# Apply preprocessing\n",
    "dataset['tokens'] = dataset['full_text'].apply(preprocess_text)\n",
    "\n",
    "# Clean the text\n",
    "dataset['clean_text'] = dataset['full_text'].apply(clean_text)\n",
    "\n",
    "# Convert scores to zero-indexed categorical labels (assuming scores are integers starting from 1)\n",
    "dataset['score'] = dataset['score'] - 1"
   ]
  },
  {
   "cell_type": "markdown",
   "id": "31e714ea",
   "metadata": {
    "id": "31e714ea"
   },
   "source": [
    "# Doc2Vec Model:"
   ]
  },
  {
   "cell_type": "code",
   "execution_count": null,
   "id": "6835b797",
   "metadata": {
    "id": "6835b797"
   },
   "outputs": [],
   "source": [
    "# Prepare data for doc2vec\n",
    "documents = [TaggedDocument(doc, [i]) for i, doc in enumerate(dataset['tokens'])]\n",
    "\n",
    "# Train doc2vec model\n",
    "doc2vec_model = Doc2Vec(documents, vector_size=200, window=5, min_count=2, workers=4, epochs=40)\n",
    "\n",
    "# Get vectors for each essay\n",
    "dataset['doc2vec_vectors'] = dataset['tokens'].apply(lambda x: doc2vec_model.infer_vector(x))\n"
   ]
  },
  {
   "cell_type": "code",
   "execution_count": null,
   "id": "BUlgb8qh2Rc6",
   "metadata": {
    "colab": {
     "base_uri": "https://localhost:8080/"
    },
    "id": "BUlgb8qh2Rc6",
    "outputId": "c15cc79b-8325-4041-8a42-c1f1bcd4f2fc"
   },
   "outputs": [],
   "source": [
    "dataset['doc2vec_vectors'][0]"
   ]
  },
  {
   "cell_type": "code",
   "execution_count": null,
   "id": "e6u0oZne2Zfn",
   "metadata": {
    "colab": {
     "base_uri": "https://localhost:8080/"
    },
    "id": "e6u0oZne2Zfn",
    "outputId": "3cac7864-3b4c-48d6-f0e6-21753849370a"
   },
   "outputs": [],
   "source": [
    "len(dataset['doc2vec_vectors'][0])"
   ]
  },
  {
   "cell_type": "code",
   "execution_count": null,
   "id": "7fce6ed4",
   "metadata": {
    "colab": {
     "base_uri": "https://localhost:8080/",
     "height": 599
    },
    "id": "7fce6ed4",
    "outputId": "f45d967d-a609-4e7d-a9ef-c5d00b936e6a"
   },
   "outputs": [],
   "source": [
    "# Split data\n",
    "X = list(dataset['doc2vec_vectors'])\n",
    "y = dataset['score']\n",
    "train_xgb(X, y)"
   ]
  },
  {
   "cell_type": "markdown",
   "id": "a618c472",
   "metadata": {
    "id": "a618c472"
   },
   "source": [
    "# Word2Vec Model:"
   ]
  },
  {
   "cell_type": "code",
   "execution_count": null,
   "id": "166aae35",
   "metadata": {
    "id": "166aae35"
   },
   "outputs": [],
   "source": [
    "word_2_vec = Word2Vec(dataset['tokens'], sg=1)\n",
    "\n",
    "# Create Document Embeddings\n",
    "def document_embedding(tokens, model):\n",
    "    # Filter tokens that are in the vocabulary\n",
    "    valid_tokens = [token for token in tokens if token in model.wv]\n",
    "    if not valid_tokens:\n",
    "        return np.zeros(model.vector_size)\n",
    "    return np.mean(model.wv[valid_tokens], axis=0)\n",
    "\n",
    "dataset['word2vec_embedding'] = dataset['tokens'].apply(lambda x: document_embedding(x, word_2_vec))\n"
   ]
  },
  {
   "cell_type": "code",
   "execution_count": null,
   "id": "98fa1a04",
   "metadata": {
    "colab": {
     "base_uri": "https://localhost:8080/"
    },
    "id": "98fa1a04",
    "outputId": "f081f1e9-c6af-4700-bd29-1b933a53b1e7"
   },
   "outputs": [],
   "source": [
    "word_2_vec.wv['time']"
   ]
  },
  {
   "cell_type": "code",
   "execution_count": null,
   "id": "f6c4186b",
   "metadata": {
    "colab": {
     "base_uri": "https://localhost:8080/"
    },
    "id": "f6c4186b",
    "outputId": "ab25b108-23c0-4323-eaab-b0a95791fdec"
   },
   "outputs": [],
   "source": [
    "word_2_vec.wv.most_similar('time')"
   ]
  },
  {
   "cell_type": "code",
   "execution_count": null,
   "id": "fa0dba60",
   "metadata": {
    "colab": {
     "base_uri": "https://localhost:8080/"
    },
    "id": "fa0dba60",
    "outputId": "dc386370-195c-44ee-b7e4-d11b863997ae"
   },
   "outputs": [],
   "source": [
    "word_2_vec.wv.most_similar('technology')"
   ]
  },
  {
   "cell_type": "code",
   "execution_count": null,
   "id": "a5888a1a",
   "metadata": {
    "colab": {
     "base_uri": "https://localhost:8080/",
     "height": 543
    },
    "id": "a5888a1a",
    "outputId": "46399e63-e76a-4a85-e831-53330c83cc48"
   },
   "outputs": [],
   "source": [
    "X = list(dataset['word2vec_embedding'])\n",
    "y = dataset['score']\n",
    "train_xgb(X, y)"
   ]
  },
  {
   "cell_type": "code",
   "execution_count": null,
   "id": "e8266c27",
   "metadata": {
    "colab": {
     "base_uri": "https://localhost:8080/",
     "height": 754
    },
    "id": "e8266c27",
    "outputId": "b38026e3-9533-4da6-a267-4bb147a3e788"
   },
   "outputs": [],
   "source": [
    "dataset"
   ]
  },
  {
   "cell_type": "markdown",
   "id": "155969be",
   "metadata": {
    "id": "155969be"
   },
   "source": [
    "# LDA Model:"
   ]
  },
  {
   "cell_type": "code",
   "execution_count": null,
   "id": "90d295c2",
   "metadata": {
    "id": "90d295c2"
   },
   "outputs": [],
   "source": [
    "# Create a dictionary and corpus for LDA\n",
    "dictionary = corpora.Dictionary(dataset['tokens'])\n",
    "corpus = [dictionary.doc2bow(text) for text in dataset['tokens']]\n",
    "\n",
    "# Train LDA model\n",
    "num_topics = 500  # Adjust the number of topics as needed\n",
    "lda_model = LdaModel(corpus, num_topics=num_topics, id2word=dictionary, passes=15)\n",
    "\n",
    "# Function to get topic distribution for a document\n",
    "def get_topic_distribution(lda_model, corpus, num_topics):\n",
    "    topics = lda_model.get_document_topics(corpus, minimum_probability=0)\n",
    "    topic_matrix = np.zeros((len(corpus), num_topics))\n",
    "    for i, topic_dist in enumerate(topics):\n",
    "        for topic, prob in topic_dist:\n",
    "            topic_matrix[i][topic] = prob\n",
    "    return topic_matrix\n",
    "\n",
    "# Generate document-topic vectors\n",
    "topic_vectors = get_topic_distribution(lda_model, corpus, num_topics)\n",
    "dataset['lda_vectors'] = list(topic_vectors)\n",
    "\n",
    "# Ensure all document vectors are valid (remove any NaN vectors)\n",
    "dataset = dataset.dropna(subset=['lda_vectors'])\n"
   ]
  },
  {
   "cell_type": "code",
   "execution_count": null,
   "id": "jPq6wk5hddPA",
   "metadata": {
    "colab": {
     "base_uri": "https://localhost:8080/"
    },
    "id": "jPq6wk5hddPA",
    "outputId": "49fd1fb8-b1d8-4624-a423-d947cde2f509"
   },
   "outputs": [],
   "source": [
    "dataset['lda_vectors'][0]"
   ]
  },
  {
   "cell_type": "code",
   "execution_count": null,
   "id": "fRCxAJk6ZPI5",
   "metadata": {
    "colab": {
     "base_uri": "https://localhost:8080/"
    },
    "id": "fRCxAJk6ZPI5",
    "outputId": "7acb5737-b579-45eb-fee2-7621c9f20868"
   },
   "outputs": [],
   "source": [
    "len(dataset['lda_vectors'][100])"
   ]
  },
  {
   "cell_type": "code",
   "execution_count": null,
   "id": "dq1cPV9iXWSj",
   "metadata": {
    "colab": {
     "base_uri": "https://localhost:8080/",
     "height": 541
    },
    "id": "dq1cPV9iXWSj",
    "outputId": "fea9a1cb-b599-4e94-d9ac-f4a8621d30e2"
   },
   "outputs": [],
   "source": [
    "X = np.array(list(dataset['lda_vectors']))\n",
    "y = dataset['score']\n",
    "train_xgb(X, y)"
   ]
  },
  {
   "cell_type": "markdown",
   "id": "eed43718",
   "metadata": {
    "id": "eed43718"
   },
   "source": [
    "# BERT Model:"
   ]
  },
  {
   "cell_type": "code",
   "execution_count": null,
   "id": "3gEigx71rr50",
   "metadata": {
    "colab": {
     "base_uri": "https://localhost:8080/"
    },
    "id": "3gEigx71rr50",
    "outputId": "38742747-2c10-46a6-f127-88f83baf6c13"
   },
   "outputs": [],
   "source": [
    "device = torch.device('cuda' if torch.cuda.is_available() else 'cpu')\n",
    "print(f\"Using device: {device}\")"
   ]
  },
  {
   "cell_type": "code",
   "execution_count": null,
   "id": "271fdda5",
   "metadata": {
    "colab": {
     "base_uri": "https://localhost:8080/",
     "height": 49,
     "referenced_widgets": [
      "a82620da79b249d0b0ac8a044f3f28db",
      "63068263721240038245d2e41d14bb78",
      "dc7cc67b7ddc4f328fa7cd675b95f438",
      "bcd6e1fc96ee4316ae167c11f88ad66f",
      "dbf1a1f93d0247a69383ecebc40a51c5",
      "6a748eb65d074a6798d8895f3da8d742",
      "3d819d0cea574e66a62777c8b3fcf169",
      "f0f8f5d24a9b46df9632bb452b650e7a",
      "42438c09966e496da5a5b3b561003745",
      "eaeaed4bc0d7459eb7c07da4b7629295",
      "60d49dfb03d44f80b3dbf914c43ccb03"
     ]
    },
    "id": "271fdda5",
    "outputId": "c09e79fa-be4f-466f-e1b6-bf71b7d30da1"
   },
   "outputs": [],
   "source": [
    "tokenizer = BertTokenizer.from_pretrained('bert-base-uncased')\n",
    "model = BertModel.from_pretrained('bert-base-uncased').to(device)\n",
    "\n",
    "def get_bert_embeddings(text):\n",
    "    encoded_batch = tokenizer(text, padding=True, truncation=True, return_tensors='pt').to(device)\n",
    "    with torch.no_grad():\n",
    "        output = model(**encoded_batch)\n",
    "        batch_embeddings = output.pooler_output\n",
    "    return batch_embeddings.cpu().numpy()\n",
    "dataset['bert_vectors'] = dataset.full_text.apply(get_bert_embeddings)"
   ]
  },
  {
   "cell_type": "code",
   "execution_count": null,
   "id": "63b78g8usWVB",
   "metadata": {
    "colab": {
     "base_uri": "https://localhost:8080/",
     "height": 597
    },
    "id": "63b78g8usWVB",
    "outputId": "7c385927-48dd-4dd2-ed07-ec1721cf235b"
   },
   "outputs": [],
   "source": [
    "dataset"
   ]
  },
  {
   "cell_type": "code",
   "execution_count": null,
   "id": "mDGm2fD_vrPd",
   "metadata": {
    "id": "mDGm2fD_vrPd"
   },
   "outputs": [],
   "source": [
    "bert_embeddings = np.vstack(dataset['bert_vectors'].values)"
   ]
  },
  {
   "cell_type": "code",
   "execution_count": null,
   "id": "Zxpfzbs2v0jf",
   "metadata": {
    "colab": {
     "base_uri": "https://localhost:8080/"
    },
    "id": "Zxpfzbs2v0jf",
    "outputId": "40e32f16-028d-4cea-e641-785826aa7b68"
   },
   "outputs": [],
   "source": [
    "len(bert_embeddings[0])"
   ]
  },
  {
   "cell_type": "code",
   "execution_count": null,
   "id": "tZPgXm_xv2Bx",
   "metadata": {
    "colab": {
     "base_uri": "https://localhost:8080/",
     "height": 543
    },
    "id": "tZPgXm_xv2Bx",
    "outputId": "0cc41745-bf69-4409-f99d-921617e5d0ba"
   },
   "outputs": [],
   "source": [
    "X = pd.DataFrame(bert_embeddings)\n",
    "y = dataset['score']\n",
    "train_xgb(X, y)\n"
   ]
  },
  {
   "cell_type": "markdown",
   "id": "vPPly5rAIdBH",
   "metadata": {
    "id": "vPPly5rAIdBH"
   },
   "source": [
    "## TF-IDF:"
   ]
  },
  {
   "cell_type": "code",
   "execution_count": null,
   "id": "cacxqSU7IhqU",
   "metadata": {
    "id": "cacxqSU7IhqU"
   },
   "outputs": [],
   "source": [
    "# Generate TF-IDF embeddings for the cleaned_text column\n",
    "tfidf_vectorizer = TfidfVectorizer(stop_words='english', max_features=2000)\n",
    "tfidf_embeddings = tfidf_vectorizer.fit_transform(dataset['clean_text'])\n"
   ]
  },
  {
   "cell_type": "code",
   "execution_count": null,
   "id": "XGO1ntXJIoBZ",
   "metadata": {
    "colab": {
     "base_uri": "https://localhost:8080/",
     "height": 541
    },
    "id": "XGO1ntXJIoBZ",
    "outputId": "f1562deb-a20d-44f6-fcef-223224df1421"
   },
   "outputs": [],
   "source": [
    "# Use the sparse matrix directly\n",
    "X = tfidf_embeddings\n",
    "y = dataset['score']\n",
    "train_xgb(X, y)"
   ]
  },
  {
   "cell_type": "code",
   "execution_count": null,
   "id": "MTetMZXlJhq3",
   "metadata": {
    "colab": {
     "base_uri": "https://localhost:8080/"
    },
    "id": "MTetMZXlJhq3",
    "outputId": "8f15b4c0-8110-42f4-d13a-46c3f2273eda"
   },
   "outputs": [],
   "source": [
    "# Create a dictionary and corpus for LDA\n",
    "dictionary = corpora.Dictionary(dataset['tokens'])\n",
    "corpus = [dictionary.doc2bow(text) for text in dataset['tokens']]\n",
    "\n",
    "# Function to train LDA model and return QWK score\n",
    "def objective(trial):\n",
    "    num_topics = trial.suggest_int('num_topics', 50, 300)\n",
    "    passes = trial.suggest_int('passes', 10, 30)\n",
    "    iterations = trial.suggest_int('iterations', 50, 300)\n",
    "    alpha = trial.suggest_categorical('alpha', ['symmetric', 'asymmetric', 'auto'])\n",
    "    eta = trial.suggest_categorical('eta', ['symmetric', 'auto'])\n",
    "    chunksize = trial.suggest_int('chunksize', 500, 5000)\n",
    "\n",
    "    lda_model = LdaModel(\n",
    "        corpus=corpus,\n",
    "        num_topics=num_topics,\n",
    "        id2word=dictionary,\n",
    "        passes=passes,\n",
    "        iterations=iterations,\n",
    "        alpha=alpha,\n",
    "        eta=eta,\n",
    "        chunksize=chunksize,\n",
    "        random_state=42\n",
    "    )\n",
    "\n",
    "    # Generate document-topic vectors\n",
    "    topic_vectors = np.array([lda_model.get_document_topics(doc, minimum_probability=0) for doc in corpus])\n",
    "    topic_vectors = np.array([[prob for _, prob in doc] for doc in topic_vectors])\n",
    "\n",
    "    # Train-test split\n",
    "    X_train, X_test, y_train, y_test = train_test_split(topic_vectors, dataset['score'], test_size=0.2, random_state=42)\n",
    "\n",
    "    # Train a classifier on the LDA topic vectors using XGBoost\n",
    "    dtrain = xgb.DMatrix(X_train, label=y_train)\n",
    "    dtest = xgb.DMatrix(X_test, label=y_test)\n",
    "\n",
    "    param = {\n",
    "        'objective': 'multi:softmax',\n",
    "        'num_class': len(set(dataset['score'])),\n",
    "        'eval_metric': 'mlogloss',\n",
    "        'tree_method': 'gpu_hist',  # Use GPU for training\n",
    "        'max_depth': trial.suggest_int('max_depth', 3, 10),\n",
    "        'learning_rate': trial.suggest_float('learning_rate', 0.01, 0.1, log=True),\n",
    "        'subsample': trial.suggest_float('subsample', 0.5, 1.0),\n",
    "        'colsample_bytree': trial.suggest_float('colsample_bytree', 0.5, 1.0),\n",
    "        'reg_lambda': trial.suggest_float('reg_lambda', 1e-3, 10.0, log=True),\n",
    "        'reg_alpha': trial.suggest_float('reg_alpha', 1e-3, 10.0, log=True)\n",
    "    }\n",
    "\n",
    "    bst = xgb.train(param, dtrain, num_boost_round=100)\n",
    "\n",
    "    # Predict on the test set\n",
    "    y_pred = bst.predict(dtest)\n",
    "\n",
    "    # Calculate QWK score\n",
    "    qwk_score = cohen_kappa_score(y_test, y_pred, weights='quadratic')\n",
    "\n",
    "    return qwk_score\n",
    "\n",
    "# Create a study object and optimize the objective function\n",
    "study = optuna.create_study(direction='maximize')\n",
    "study.optimize(objective, n_trials=50)\n",
    "\n",
    "# Get the best hyperparameters\n",
    "best_params = study.best_params\n",
    "print(f\"Best hyperparameters: {best_params}\")\n",
    "\n",
    "# Train the final LDA model with the best hyperparameters\n",
    "lda_model = LdaModel(\n",
    "    corpus=corpus,\n",
    "    num_topics=best_params['num_topics'],\n",
    "    id2word=dictionary,\n",
    "    passes=best_params['passes'],\n",
    "    iterations=best_params['iterations'],\n",
    "    alpha=best_params['alpha'],\n",
    "    eta=best_params['eta'],\n",
    "    chunksize=best_params['chunksize'],\n",
    "    random_state=42\n",
    ")\n",
    "\n",
    "# Function to get topic distribution for a document\n",
    "def get_topic_distribution(lda_model, corpus, num_topics):\n",
    "    topics = [lda_model.get_document_topics(doc, minimum_probability=0) for doc in corpus]\n",
    "    topic_matrix = np.zeros((len(corpus), num_topics))\n",
    "    for i, topic_dist in enumerate(topics):\n",
    "        for topic, prob in topic_dist:\n",
    "            topic_matrix[i][topic] = prob\n",
    "    return topic_matrix\n",
    "\n",
    "# Generate document-topic vectors\n",
    "num_topics = best_params['num_topics']\n",
    "topic_vectors = get_topic_distribution(lda_model, corpus, num_topics)\n",
    "dataset['lda_vectors'] = list(topic_vectors)\n",
    "\n",
    "# Ensure all document vectors are valid (remove any NaN vectors)\n",
    "dataset = dataset.dropna(subset=['lda_vectors'])\n"
   ]
  },
  {
   "cell_type": "code",
   "execution_count": null,
   "id": "ORmap_6saBOM",
   "metadata": {
    "id": "ORmap_6saBOM"
   },
   "outputs": [],
   "source": []
  },
  {
   "cell_type": "code",
   "execution_count": null,
   "id": "ZGVfATE9YIvm",
   "metadata": {
    "id": "ZGVfATE9YIvm"
   },
   "outputs": [],
   "source": []
  },
  {
   "cell_type": "code",
   "execution_count": null,
   "id": "VMKu0ZvBYI65",
   "metadata": {
    "colab": {
     "base_uri": "https://localhost:8080/"
    },
    "id": "VMKu0ZvBYI65",
    "outputId": "c5647b78-1e6c-4a78-cddd-a2fc6f11387f"
   },
   "outputs": [],
   "source": [
    "pip install xgboost"
   ]
  },
  {
   "cell_type": "code",
   "execution_count": null,
   "id": "g3Caqj6oYJEW",
   "metadata": {
    "colab": {
     "base_uri": "https://localhost:8080/"
    },
    "id": "g3Caqj6oYJEW",
    "outputId": "630df6d8-a118-4dad-a95c-a8c445137904"
   },
   "outputs": [],
   "source": [
    "import pandas as pd\n",
    "import gensim\n",
    "import xgboost as xgb\n",
    "import numpy as np\n",
    "import matplotlib.pyplot as plt\n",
    "from gensim.models.ldamodel import LdaModel\n",
    "from gensim import corpora\n",
    "from sklearn.model_selection import train_test_split\n",
    "from sklearn.metrics import accuracy_score, confusion_matrix, precision_score, recall_score, cohen_kappa_score, ConfusionMatrixDisplay\n",
    "from sklearn.feature_extraction.text import TfidfVectorizer\n",
    "import nltk\n",
    "from nltk.corpus import stopwords\n",
    "from nltk.stem import WordNetLemmatizer\n",
    "import re\n",
    "\n",
    "# Download stopwords and lemmatizer\n",
    "nltk.download('stopwords')\n",
    "nltk.download('wordnet')\n",
    "\n",
    "# Load data\n",
    "dataset = pd.read_csv('trains.csv', encoding='latin1')\n",
    "\n",
    "# Explore the dataset\n",
    "print(dataset.head())\n",
    "print(dataset.info())\n",
    "\n",
    "# Text Preprocessing\n",
    "stop_words = set(stopwords.words('english'))\n",
    "lemmatizer = WordNetLemmatizer()\n",
    "\n",
    "def preprocess_text(text):\n",
    "    # Remove non-alphabetical characters and tokenize the text\n",
    "    text = re.sub(r'[^a-zA-Z\\s]', '', text)\n",
    "    tokens = gensim.utils.simple_preprocess(text)\n",
    "    tokens = [lemmatizer.lemmatize(token) for token in tokens if token not in stop_words]\n",
    "    return tokens\n",
    "\n",
    "dataset['tokens'] = dataset['full_text'].apply(preprocess_text)\n",
    "\n",
    "# Convert scores to zero-indexed categorical labels (assuming scores are integers starting from 1)\n",
    "dataset['score'] = dataset['score'] - 1\n",
    "\n",
    "# Create a dictionary and corpus for LDA\n",
    "dictionary = corpora.Dictionary(dataset['tokens'])\n",
    "corpus = [dictionary.doc2bow(text) for text in dataset['tokens']]\n",
    "\n",
    "# Train LDA model with more topics and passes\n",
    "num_topics = 50  # Increase the number of topics\n",
    "lda_model = LdaModel(corpus, num_topics=num_topics, id2word=dictionary, passes=10)  # Increase the number of passes\n",
    "\n",
    "\n",
    "\n",
    "\n",
    "# Function to get topic distribution for a document\n",
    "def get_topic_distribution(lda_model, corpus, num_topics):\n",
    "    topics = lda_model.get_document_topics(corpus, minimum_probability=0)\n",
    "    topic_matrix = np.zeros((len(corpus), num_topics))\n",
    "    for i, topic_dist in enumerate(topics):\n",
    "        for topic, prob in topic_dist:\n",
    "            topic_matrix[i][topic] = prob\n",
    "    return topic_matrix\n",
    "\n",
    "# Generate document-topic vectors\n",
    "topic_vectors = get_topic_distribution(lda_model, corpus, num_topics)\n",
    "dataset['lda_vectors'] = list(topic_vectors)\n",
    "\n",
    "# Ensure all document vectors are valid (remove any NaN vectors)\n",
    "dataset = dataset.dropna(subset=['lda_vectors'])\n",
    "\n",
    "# TF-IDF Vectorizer with bigrams\n",
    "tfidf = TfidfVectorizer(stop_words=list(stop_words), ngram_range=(1, 2))\n",
    "tfidf_vectors = tfidf.fit_transform(dataset['full_text'])\n",
    "\n",
    "# Combine LDA and TF-IDF vectors\n",
    "combined_vectors = np.hstack([list(dataset['lda_vectors']), tfidf_vectors.toarray()])\n",
    "\n",
    "X = combined_vectors\n",
    "y = dataset['score']\n",
    "\n",
    "# Train-test split\n",
    "X_train, X_test, y_train, y_test = train_test_split(X, y, test_size=0.2, random_state=42)\n",
    "\n"
   ]
  },
  {
   "cell_type": "code",
   "execution_count": null,
   "id": "QKtV1JjUYcY7",
   "metadata": {
    "id": "QKtV1JjUYcY7"
   },
   "outputs": [],
   "source": [
    "# Set the hyperparameters manually with more tuning\n",
    "params = {\n",
    "    'max_depth': 10,\n",
    "    'eta': 0.01,\n",
    "    'objective': 'multi:softmax',\n",
    "    'num_class': len(y.unique()),\n",
    "    'subsample': 0.8,\n",
    "    'colsample_bytree': 0.8,\n",
    "    'min_child_weight': 3,\n",
    "    'lambda': 1.5,\n",
    "    'alpha': 0.5,\n",
    "    'n_estimators': 500  # Increase number of boosting rounds\n",
    "}\n",
    "\n",
    "# Train the model using GridSearchCV\n",
    "from sklearn.model_selection import GridSearchCV\n",
    "\n",
    "xgb_model = xgb.XGBClassifier(objective='multi:softmax', num_class=len(y.unique()), use_label_encoder=False)\n",
    "parameters = {\n",
    "    'max_depth': [6, 8, 10],\n",
    "    'eta': [0.01, 0.05, 0.1],\n",
    "    'subsample': [0.7, 0.8, 0.9],\n",
    "    'colsample_bytree': [0.7, 0.8, 0.9],\n",
    "    'min_child_weight': [1, 3, 5],\n",
    "    'lambda': [1, 1.5, 2],\n",
    "    'alpha': [0, 0.5, 1],\n",
    "    'n_estimators': [100, 200, 500]\n",
    "}\n",
    "\n",
    "clf = GridSearchCV(xgb_model, parameters, scoring='accuracy', n_jobs=-1, cv=3)\n",
    "clf.fit(X_train, y_train)\n",
    "\n",
    "print(\"Best parameters:\", clf.best_params_)\n",
    "\n",
    "# Predict\n",
    "y_pred = clf.predict(X_test)\n",
    "\n",
    "# Evaluate\n",
    "accuracy = accuracy_score(y_test, y_pred)\n",
    "precision = precision_score(y_test, y_pred, average='weighted')\n",
    "recall = recall_score(y_test, y_pred, average='weighted')\n",
    "qwk = cohen_kappa_score(y_test, y_pred, weights='quadratic')\n",
    "\n",
    "# Create confusion matrix\n",
    "cm = confusion_matrix(y_test, y_pred)\n",
    "disp = ConfusionMatrixDisplay(confusion_matrix=cm, display_labels=np.arange(len(dataset['score'].unique())))\n",
    "\n",
    "# Plot confusion matrix\n",
    "disp.plot(cmap=plt.cm.Blues)\n",
    "plt.title('Confusion Matrix')\n",
    "plt.show()\n",
    "\n",
    "print(f'Accuracy: {accuracy:.2f}')\n",
    "print(f'Precision: {precision:.2f}')\n",
    "print(f'Recall: {recall:.2f}')\n",
    "print(f'Quadratic Weighted Kappa (QWK): {qwk:.2f}')"
   ]
  }
 ],
 "metadata": {
  "accelerator": "TPU",
  "colab": {
   "gpuType": "V28",
   "provenance": []
  },
  "kernelspec": {
   "display_name": "Python 3",
   "name": "python3"
  },
  "language_info": {
   "codemirror_mode": {
    "name": "ipython",
    "version": 3
   },
   "file_extension": ".py",
   "mimetype": "text/x-python",
   "name": "python",
   "nbconvert_exporter": "python",
   "pygments_lexer": "ipython3",
   "version": "3.11.5"
  },
  "widgets": {
   "application/vnd.jupyter.widget-state+json": {
    "3d819d0cea574e66a62777c8b3fcf169": {
     "model_module": "@jupyter-widgets/controls",
     "model_module_version": "1.5.0",
     "model_name": "DescriptionStyleModel",
     "state": {
      "_model_module": "@jupyter-widgets/controls",
      "_model_module_version": "1.5.0",
      "_model_name": "DescriptionStyleModel",
      "_view_count": null,
      "_view_module": "@jupyter-widgets/base",
      "_view_module_version": "1.2.0",
      "_view_name": "StyleView",
      "description_width": ""
     }
    },
    "42438c09966e496da5a5b3b561003745": {
     "model_module": "@jupyter-widgets/controls",
     "model_module_version": "1.5.0",
     "model_name": "ProgressStyleModel",
     "state": {
      "_model_module": "@jupyter-widgets/controls",
      "_model_module_version": "1.5.0",
      "_model_name": "ProgressStyleModel",
      "_view_count": null,
      "_view_module": "@jupyter-widgets/base",
      "_view_module_version": "1.2.0",
      "_view_name": "StyleView",
      "bar_color": null,
      "description_width": ""
     }
    },
    "60d49dfb03d44f80b3dbf914c43ccb03": {
     "model_module": "@jupyter-widgets/controls",
     "model_module_version": "1.5.0",
     "model_name": "DescriptionStyleModel",
     "state": {
      "_model_module": "@jupyter-widgets/controls",
      "_model_module_version": "1.5.0",
      "_model_name": "DescriptionStyleModel",
      "_view_count": null,
      "_view_module": "@jupyter-widgets/base",
      "_view_module_version": "1.2.0",
      "_view_name": "StyleView",
      "description_width": ""
     }
    },
    "63068263721240038245d2e41d14bb78": {
     "model_module": "@jupyter-widgets/controls",
     "model_module_version": "1.5.0",
     "model_name": "HTMLModel",
     "state": {
      "_dom_classes": [],
      "_model_module": "@jupyter-widgets/controls",
      "_model_module_version": "1.5.0",
      "_model_name": "HTMLModel",
      "_view_count": null,
      "_view_module": "@jupyter-widgets/controls",
      "_view_module_version": "1.5.0",
      "_view_name": "HTMLView",
      "description": "",
      "description_tooltip": null,
      "layout": "IPY_MODEL_6a748eb65d074a6798d8895f3da8d742",
      "placeholder": "​",
      "style": "IPY_MODEL_3d819d0cea574e66a62777c8b3fcf169",
      "value": "model.safetensors: 100%"
     }
    },
    "6a748eb65d074a6798d8895f3da8d742": {
     "model_module": "@jupyter-widgets/base",
     "model_module_version": "1.2.0",
     "model_name": "LayoutModel",
     "state": {
      "_model_module": "@jupyter-widgets/base",
      "_model_module_version": "1.2.0",
      "_model_name": "LayoutModel",
      "_view_count": null,
      "_view_module": "@jupyter-widgets/base",
      "_view_module_version": "1.2.0",
      "_view_name": "LayoutView",
      "align_content": null,
      "align_items": null,
      "align_self": null,
      "border": null,
      "bottom": null,
      "display": null,
      "flex": null,
      "flex_flow": null,
      "grid_area": null,
      "grid_auto_columns": null,
      "grid_auto_flow": null,
      "grid_auto_rows": null,
      "grid_column": null,
      "grid_gap": null,
      "grid_row": null,
      "grid_template_areas": null,
      "grid_template_columns": null,
      "grid_template_rows": null,
      "height": null,
      "justify_content": null,
      "justify_items": null,
      "left": null,
      "margin": null,
      "max_height": null,
      "max_width": null,
      "min_height": null,
      "min_width": null,
      "object_fit": null,
      "object_position": null,
      "order": null,
      "overflow": null,
      "overflow_x": null,
      "overflow_y": null,
      "padding": null,
      "right": null,
      "top": null,
      "visibility": null,
      "width": null
     }
    },
    "a82620da79b249d0b0ac8a044f3f28db": {
     "model_module": "@jupyter-widgets/controls",
     "model_module_version": "1.5.0",
     "model_name": "HBoxModel",
     "state": {
      "_dom_classes": [],
      "_model_module": "@jupyter-widgets/controls",
      "_model_module_version": "1.5.0",
      "_model_name": "HBoxModel",
      "_view_count": null,
      "_view_module": "@jupyter-widgets/controls",
      "_view_module_version": "1.5.0",
      "_view_name": "HBoxView",
      "box_style": "",
      "children": [
       "IPY_MODEL_63068263721240038245d2e41d14bb78",
       "IPY_MODEL_dc7cc67b7ddc4f328fa7cd675b95f438",
       "IPY_MODEL_bcd6e1fc96ee4316ae167c11f88ad66f"
      ],
      "layout": "IPY_MODEL_dbf1a1f93d0247a69383ecebc40a51c5"
     }
    },
    "bcd6e1fc96ee4316ae167c11f88ad66f": {
     "model_module": "@jupyter-widgets/controls",
     "model_module_version": "1.5.0",
     "model_name": "HTMLModel",
     "state": {
      "_dom_classes": [],
      "_model_module": "@jupyter-widgets/controls",
      "_model_module_version": "1.5.0",
      "_model_name": "HTMLModel",
      "_view_count": null,
      "_view_module": "@jupyter-widgets/controls",
      "_view_module_version": "1.5.0",
      "_view_name": "HTMLView",
      "description": "",
      "description_tooltip": null,
      "layout": "IPY_MODEL_eaeaed4bc0d7459eb7c07da4b7629295",
      "placeholder": "​",
      "style": "IPY_MODEL_60d49dfb03d44f80b3dbf914c43ccb03",
      "value": " 440M/440M [00:08&lt;00:00, 114MB/s]"
     }
    },
    "dbf1a1f93d0247a69383ecebc40a51c5": {
     "model_module": "@jupyter-widgets/base",
     "model_module_version": "1.2.0",
     "model_name": "LayoutModel",
     "state": {
      "_model_module": "@jupyter-widgets/base",
      "_model_module_version": "1.2.0",
      "_model_name": "LayoutModel",
      "_view_count": null,
      "_view_module": "@jupyter-widgets/base",
      "_view_module_version": "1.2.0",
      "_view_name": "LayoutView",
      "align_content": null,
      "align_items": null,
      "align_self": null,
      "border": null,
      "bottom": null,
      "display": null,
      "flex": null,
      "flex_flow": null,
      "grid_area": null,
      "grid_auto_columns": null,
      "grid_auto_flow": null,
      "grid_auto_rows": null,
      "grid_column": null,
      "grid_gap": null,
      "grid_row": null,
      "grid_template_areas": null,
      "grid_template_columns": null,
      "grid_template_rows": null,
      "height": null,
      "justify_content": null,
      "justify_items": null,
      "left": null,
      "margin": null,
      "max_height": null,
      "max_width": null,
      "min_height": null,
      "min_width": null,
      "object_fit": null,
      "object_position": null,
      "order": null,
      "overflow": null,
      "overflow_x": null,
      "overflow_y": null,
      "padding": null,
      "right": null,
      "top": null,
      "visibility": null,
      "width": null
     }
    },
    "dc7cc67b7ddc4f328fa7cd675b95f438": {
     "model_module": "@jupyter-widgets/controls",
     "model_module_version": "1.5.0",
     "model_name": "FloatProgressModel",
     "state": {
      "_dom_classes": [],
      "_model_module": "@jupyter-widgets/controls",
      "_model_module_version": "1.5.0",
      "_model_name": "FloatProgressModel",
      "_view_count": null,
      "_view_module": "@jupyter-widgets/controls",
      "_view_module_version": "1.5.0",
      "_view_name": "ProgressView",
      "bar_style": "success",
      "description": "",
      "description_tooltip": null,
      "layout": "IPY_MODEL_f0f8f5d24a9b46df9632bb452b650e7a",
      "max": 440449768,
      "min": 0,
      "orientation": "horizontal",
      "style": "IPY_MODEL_42438c09966e496da5a5b3b561003745",
      "value": 440449768
     }
    },
    "eaeaed4bc0d7459eb7c07da4b7629295": {
     "model_module": "@jupyter-widgets/base",
     "model_module_version": "1.2.0",
     "model_name": "LayoutModel",
     "state": {
      "_model_module": "@jupyter-widgets/base",
      "_model_module_version": "1.2.0",
      "_model_name": "LayoutModel",
      "_view_count": null,
      "_view_module": "@jupyter-widgets/base",
      "_view_module_version": "1.2.0",
      "_view_name": "LayoutView",
      "align_content": null,
      "align_items": null,
      "align_self": null,
      "border": null,
      "bottom": null,
      "display": null,
      "flex": null,
      "flex_flow": null,
      "grid_area": null,
      "grid_auto_columns": null,
      "grid_auto_flow": null,
      "grid_auto_rows": null,
      "grid_column": null,
      "grid_gap": null,
      "grid_row": null,
      "grid_template_areas": null,
      "grid_template_columns": null,
      "grid_template_rows": null,
      "height": null,
      "justify_content": null,
      "justify_items": null,
      "left": null,
      "margin": null,
      "max_height": null,
      "max_width": null,
      "min_height": null,
      "min_width": null,
      "object_fit": null,
      "object_position": null,
      "order": null,
      "overflow": null,
      "overflow_x": null,
      "overflow_y": null,
      "padding": null,
      "right": null,
      "top": null,
      "visibility": null,
      "width": null
     }
    },
    "f0f8f5d24a9b46df9632bb452b650e7a": {
     "model_module": "@jupyter-widgets/base",
     "model_module_version": "1.2.0",
     "model_name": "LayoutModel",
     "state": {
      "_model_module": "@jupyter-widgets/base",
      "_model_module_version": "1.2.0",
      "_model_name": "LayoutModel",
      "_view_count": null,
      "_view_module": "@jupyter-widgets/base",
      "_view_module_version": "1.2.0",
      "_view_name": "LayoutView",
      "align_content": null,
      "align_items": null,
      "align_self": null,
      "border": null,
      "bottom": null,
      "display": null,
      "flex": null,
      "flex_flow": null,
      "grid_area": null,
      "grid_auto_columns": null,
      "grid_auto_flow": null,
      "grid_auto_rows": null,
      "grid_column": null,
      "grid_gap": null,
      "grid_row": null,
      "grid_template_areas": null,
      "grid_template_columns": null,
      "grid_template_rows": null,
      "height": null,
      "justify_content": null,
      "justify_items": null,
      "left": null,
      "margin": null,
      "max_height": null,
      "max_width": null,
      "min_height": null,
      "min_width": null,
      "object_fit": null,
      "object_position": null,
      "order": null,
      "overflow": null,
      "overflow_x": null,
      "overflow_y": null,
      "padding": null,
      "right": null,
      "top": null,
      "visibility": null,
      "width": null
     }
    }
   }
  }
 },
 "nbformat": 4,
 "nbformat_minor": 5
}
